{
  "cells": [
    {
      "cell_type": "code",
      "execution_count": null,
      "metadata": {
        "id": "z-mzzs2IPc0g"
      },
      "outputs": [],
      "source": [
        "import requests\n",
        "from bs4 import BeautifulSoup\n",
        "import lxml\n",
        "import csv\n",
        "import pandas as pd\n",
        "import numpy as np\n",
        "import logging\n",
        "import collections\n",
        "import csv\n",
        "import matplotlib.pyplot as plt\n",
        "import re\n",
        "import seaborn as sns\n",
        "from sklearn import preprocessing\n",
        "from sklearn.cluster import KMeans\n",
        "from scipy.cluster.hierarchy import dendrogram, linkage, fcluster\n",
        "import matplotlib\n"
      ]
    },
    {
      "cell_type": "code",
      "execution_count": null,
      "metadata": {
        "id": "YgjUsLzrPc0i"
      },
      "outputs": [],
      "source": []
    },
    {
      "cell_type": "code",
      "execution_count": null,
      "metadata": {
        "id": "sB5DVuPbPc0i"
      },
      "outputs": [],
      "source": [
        "logging.basicConfig(level = logging.DEBUG)\n",
        "logger = logging.getLogger('lr')\n",
        "\n",
        "ParseResult = collections.namedtuple(\n",
        "'ParseResult',\n",
        "(\n",
        "'url',\n",
        "'book_name',\n",
        "'author_name',\n",
        "'price',\n",
        "'star',\n",
        "'quantity',\n",
        "'page_volume',\n",
        "'genre',\n",
        "'author_info'\n",
        "),\n",
        ")\n",
        "\n",
        "HEADERS = (\n",
        "'Ссылка',\n",
        "'Название книги',\n",
        "'Имя автора',\n",
        "'Цена книги',\n",
        "'Оценка',\n",
        "'Кол-во оценок',\n",
        "'Кол-во страниц',\n",
        "'Жанр',\n",
        "'Кол-во книг у автора',\n",
        ")\n",
        "\n",
        "class LitRes:\n",
        "    def __init__(self):\n",
        "        self.session = requests.Session()\n",
        "        self.session.headers = {\n",
        "        'User-Agent': 'Mozilla/5.0 (Macintosh; Intel Mac OS X 10_15_7) AppleWebKit/537.36 (KHTML, like Gecko) Chrome/87.0.4280.141 Safari/537.36',\n",
        "        'Accept-Language': 'ru',\n",
        "        }\n",
        "        self.result = []\n",
        "\n",
        "    def load_page(self, page):\n",
        "        if page > 1:\n",
        "            url = 'https://www.litres.ru/knigi-sovremennaya-proza/' + 'page-' + str(page)\n",
        "        else:\n",
        "            url = 'https://www.litres.ru/knigi-sovremennaya-proza/'\n",
        "        res = self.session.get(url = url)\n",
        "        res.raise_for_status()\n",
        "        return res.text\n",
        "\n",
        "    def parse_page(self, text):\n",
        "        soup = BeautifulSoup(text, 'lxml')\n",
        "        container = soup.select('div.art-item.mgrid')\n",
        "        for block in container[:1]:\n",
        "            self.parse_block(block = block)\n",
        "\n",
        "    def parse_block(self, block):\n",
        "        #logger.info(block)\n",
        "        #logger.info('=' * 100)\n",
        "        url_base = 'https://www.litres.ru'\n",
        "        url_block = block.select_one('a.img-a')\n",
        "        if not url_block:\n",
        "            logger.error('no url_block')\n",
        "            return\n",
        "        url = url_base + url_block.get('href')\n",
        "        #print(url)\n",
        "        if not url:\n",
        "            logger.error('no url')\n",
        "            return\n",
        "        book = block.select_one('div.art__name').select_one('a.art__name__href')\n",
        "        name_book = book.select_one('span')\n",
        "        if not name_book:\n",
        "            logger.error('no book name')\n",
        "            return\n",
        "        author = block.select_one('div.art__author')\n",
        "        author_book = author.select_one('a')\n",
        "        if not author_book:\n",
        "            logger.error('no book author')\n",
        "            return\n",
        "        url_author = url_base + author_book.get('href')\n",
        "        name_book = name_book.text\n",
        "        name_book = name_book.replace('/', '').strip()\n",
        "        author_book = author_book.text\n",
        "        author_book = author_book.replace('/', '').strip()\n",
        "        text = self.load_page_info(url = url)\n",
        "        price = self.parse_page_info(text = text, what = 'price')\n",
        "        star = self.parse_page_info(text = text, what = 'rating')[0]\n",
        "        quantity = self.parse_page_info(text = text, what = 'rating')[1]\n",
        "        page_volume = self.parse_page_info(text = text, what = 'page_volume')\n",
        "        genre = self.parse_page_info(text = text, what = 'genre')\n",
        "        text = self.load_page_info(url = url_author)\n",
        "        author_info = self.parse_page_info(text = text, what = 'author_info')\n",
        "\n",
        "        self.result.append(ParseResult(\n",
        "        url = url,\n",
        "        book_name = name_book,\n",
        "        author_name = author_book,\n",
        "        price = price,\n",
        "        star = star,\n",
        "        quantity = quantity,\n",
        "        page_volume = page_volume,\n",
        "        genre = genre,\n",
        "        author_info = author_info,\n",
        "        ))\n",
        "\n",
        "        #logger.debug('%s, %s, %s', url, name_book, author_book)\n",
        "        #logger.debug('-' * 100)\n",
        "\n",
        "    def load_page_info(self, url):\n",
        "        url = url\n",
        "        res = self.session.get(url = url)\n",
        "        res.raise_for_status()\n",
        "        return res.text\n",
        "\n",
        "    def parse_page_info(self, text, what):\n",
        "        soup = BeautifulSoup(text, 'lxml')\n",
        "        if what == 'price':\n",
        "            #container = soup.select('div.biblio_book_buy.clickteg')\n",
        "            container = soup.select('button.coolbtn.btn-green.a_buyany')\n",
        "        elif what == 'rating':\n",
        "            container = soup.select('div.rating-text-wrapper')\n",
        "        elif what == 'page_volume':\n",
        "            container = soup.select('li.volume')\n",
        "        elif what == 'genre':\n",
        "            container = soup.select('a.biblio_info__link')\n",
        "        elif what == 'author_info':\n",
        "            container = soup.select('span.count')\n",
        "        for block in container:\n",
        "            x = self.parse_block_info(block = block, what = what)\n",
        "            return x\n",
        "\n",
        "    def parse_block_info(self, block, what):\n",
        "        if what == 'rating':\n",
        "            star_block = block.select_one('div.rating-number.bottomline-rating')\n",
        "            if not star_block:\n",
        "                logger.error('no star block')\n",
        "                return\n",
        "            quantity_block = block.select_one('div.votes-count.bottomline-rating-count')\n",
        "            if not quantity_block:\n",
        "                logger.error('no quantity block')\n",
        "                return\n",
        "            star_block = star_block.text.replace('/', '').strip()\n",
        "            quantity_block = quantity_block.text.replace('/', '').strip()\n",
        "            return [star_block, quantity_block]\n",
        "        elif what == 'price':\n",
        "            price_block = block.select_one('span.new-price')\n",
        "            if not price_block:\n",
        "            price_block = block.select_one('span.simple-price')\n",
        "                if not price_block:\n",
        "                logger.error('no price block')\n",
        "                    return\n",
        "            price_block = price_block.text.replace('/', '').strip()\n",
        "            return price_block\n",
        "        elif what == 'page_volume':\n",
        "            page_volume = block.text.replace('/', '').strip()\n",
        "            return page_volume\n",
        "        elif what == 'genre':\n",
        "            genre = block.text.replace('/', '').strip()\n",
        "            return genre\n",
        "        elif what == 'author_info':\n",
        "            author_info = block.text.replace('/', '').strip()\n",
        "            return author_info\n",
        "\n",
        "    def run(self):\n",
        "        for i in range(1):\n",
        "            text = self.load_page(i)\n",
        "            self.parse_page(text = text)\n",
        "        logger.info(f'Получили {len(self.result)} элементов')\n",
        "        self.save_result()\n",
        "\n",
        "    def save_result(self):\n",
        "        path = '/Users/a181464/Desktop/финаха/МО/ДТЗ LitRes/df.csv'\n",
        "        with open(path, 'w') as f:\n",
        "            writer = csv.writer(f, quoting = csv.QUOTE_MINIMAL)\n",
        "            writer.writerow(HEADERS)\n",
        "            for item in self.result:\n",
        "            writer.writerow(item)\n",
        "\n",
        "\n",
        "if __name__ == '__main__':\n",
        "    parser = LitRes()\n",
        "    parser.run()"
      ]
    },
    {
      "cell_type": "code",
      "execution_count": null,
      "metadata": {
        "id": "Ps5s-ik4Pc0j",
        "outputId": "b37982eb-0f59-4191-f83c-761894bcf09d"
      },
      "outputs": [
        {
          "data": {
            "text/html": [
              "<div>\n",
              "<style scoped>\n",
              "    .dataframe tbody tr th:only-of-type {\n",
              "        vertical-align: middle;\n",
              "    }\n",
              "\n",
              "    .dataframe tbody tr th {\n",
              "        vertical-align: top;\n",
              "    }\n",
              "\n",
              "    .dataframe thead th {\n",
              "        text-align: right;\n",
              "    }\n",
              "</style>\n",
              "<table border=\"1\" class=\"dataframe\">\n",
              "  <thead>\n",
              "    <tr style=\"text-align: right;\">\n",
              "      <th></th>\n",
              "      <th>Ссылка</th>\n",
              "      <th>Название книги</th>\n",
              "      <th>Имя автора</th>\n",
              "      <th>Цена книги</th>\n",
              "      <th>Оценка</th>\n",
              "      <th>Кол-во оценок</th>\n",
              "      <th>Кол-во страниц</th>\n",
              "      <th>Жанр</th>\n",
              "      <th>Кол-во книг у автора</th>\n",
              "      <th>Тип</th>\n",
              "    </tr>\n",
              "  </thead>\n",
              "  <tbody>\n",
              "    <tr>\n",
              "      <th>0</th>\n",
              "      <td>https://www.litres.ru/fredrik-bakman/trevozhny...</td>\n",
              "      <td>Тревожные люди</td>\n",
              "      <td>Фредрик Бакман</td>\n",
              "      <td>349 ₽</td>\n",
              "      <td>4,6</td>\n",
              "      <td>885</td>\n",
              "      <td>Объем: 300 стр. 1 иллюстрация</td>\n",
              "      <td>современная зарубежная литература</td>\n",
              "      <td>22</td>\n",
              "      <td>Текст</td>\n",
              "    </tr>\n",
              "    <tr>\n",
              "      <th>1</th>\n",
              "      <td>https://www.litres.ru/evgeniy-vodolazkin/oprav...</td>\n",
              "      <td>Оправдание Острова</td>\n",
              "      <td>Евгений Водолазкин</td>\n",
              "      <td>499 ₽</td>\n",
              "      <td>4,3</td>\n",
              "      <td>71</td>\n",
              "      <td>Объем: 290 стр.</td>\n",
              "      <td>современная русская литература</td>\n",
              "      <td>38</td>\n",
              "      <td>Текст</td>\n",
              "    </tr>\n",
              "    <tr>\n",
              "      <th>2</th>\n",
              "      <td>https://www.litres.ru/fredrik-bakman/vtoraya-z...</td>\n",
              "      <td>Вторая жизнь Уве</td>\n",
              "      <td>Фредрик Бакман</td>\n",
              "      <td>299 ₽</td>\n",
              "      <td>4,8</td>\n",
              "      <td>5082</td>\n",
              "      <td>Объем: 330 стр. 41 иллюстрация</td>\n",
              "      <td>современная зарубежная литература</td>\n",
              "      <td>22</td>\n",
              "      <td>Текст</td>\n",
              "    </tr>\n",
              "    <tr>\n",
              "      <th>3</th>\n",
              "      <td>https://www.litres.ru/boris-akunin/mir-i-voyna/</td>\n",
              "      <td>Мир и война</td>\n",
              "      <td>Борис Акунин</td>\n",
              "      <td>419 ₽</td>\n",
              "      <td>4,4</td>\n",
              "      <td>1844</td>\n",
              "      <td>Объем: 250 стр. 59 иллюстраций</td>\n",
              "      <td>историческая литература</td>\n",
              "      <td>239</td>\n",
              "      <td>Текст</td>\n",
              "    </tr>\n",
              "    <tr>\n",
              "      <th>4</th>\n",
              "      <td>https://www.litres.ru/evgeniy-vodolazkin/lavr/</td>\n",
              "      <td>Лавр</td>\n",
              "      <td>Евгений Водолазкин</td>\n",
              "      <td>399 ₽</td>\n",
              "      <td>4,5</td>\n",
              "      <td>3188</td>\n",
              "      <td>Объем: 390 стр. 43 иллюстрации</td>\n",
              "      <td>историческая литература</td>\n",
              "      <td>38</td>\n",
              "      <td>Текст</td>\n",
              "    </tr>\n",
              "    <tr>\n",
              "      <th>...</th>\n",
              "      <td>...</td>\n",
              "      <td>...</td>\n",
              "      <td>...</td>\n",
              "      <td>...</td>\n",
              "      <td>...</td>\n",
              "      <td>...</td>\n",
              "      <td>...</td>\n",
              "      <td>...</td>\n",
              "      <td>...</td>\n",
              "      <td>...</td>\n",
              "    </tr>\n",
              "    <tr>\n",
              "      <th>515</th>\n",
              "      <td>https://www.litres.ru/viktor-remizov/vechnaya-...</td>\n",
              "      <td>Вечная мерзлота</td>\n",
              "      <td>Виктор Ремизов</td>\n",
              "      <td>299 ₽</td>\n",
              "      <td>4,5</td>\n",
              "      <td>19</td>\n",
              "      <td>Объем: 1160 стр.</td>\n",
              "      <td>историческая литература</td>\n",
              "      <td>7</td>\n",
              "      <td>Текст</td>\n",
              "    </tr>\n",
              "    <tr>\n",
              "      <th>516</th>\n",
              "      <td>https://www.litres.ru/svetlana-sachkova-241428...</td>\n",
              "      <td>Люди и птицы</td>\n",
              "      <td>Светлана Сачкова</td>\n",
              "      <td>289 ₽</td>\n",
              "      <td>4,4</td>\n",
              "      <td>30</td>\n",
              "      <td>Объем: 450 стр.</td>\n",
              "      <td>современная русская литература</td>\n",
              "      <td>2</td>\n",
              "      <td>Текст</td>\n",
              "    </tr>\n",
              "    <tr>\n",
              "      <th>517</th>\n",
              "      <td>https://www.litres.ru/edvard-radzinskiy/russki...</td>\n",
              "      <td>Русские цари</td>\n",
              "      <td>Эдвард Радзинский</td>\n",
              "      <td>579 ₽</td>\n",
              "      <td>4,0</td>\n",
              "      <td>7</td>\n",
              "      <td>Объем: 1120 стр.</td>\n",
              "      <td>биографии и мемуары</td>\n",
              "      <td>97</td>\n",
              "      <td>Текст</td>\n",
              "    </tr>\n",
              "    <tr>\n",
              "      <th>518</th>\n",
              "      <td>https://www.litres.ru/aleksandr-mihaylovskiy-4...</td>\n",
              "      <td>Пусть ярость благородная</td>\n",
              "      <td>Александр Михайловский</td>\n",
              "      <td>164 ₽</td>\n",
              "      <td>4,3</td>\n",
              "      <td>199</td>\n",
              "      <td>Объем: 380 стр.</td>\n",
              "      <td>исторические приключения</td>\n",
              "      <td>104</td>\n",
              "      <td>Текст</td>\n",
              "    </tr>\n",
              "    <tr>\n",
              "      <th>519</th>\n",
              "      <td>https://www.litres.ru/masha-traub/vsegda-kto-t...</td>\n",
              "      <td>Всегда кто-то платит</td>\n",
              "      <td>Маша Трауб</td>\n",
              "      <td>164 ₽</td>\n",
              "      <td>4,2</td>\n",
              "      <td>526</td>\n",
              "      <td>Объем: 220 стр.</td>\n",
              "      <td>современная русская литература</td>\n",
              "      <td>90</td>\n",
              "      <td>Текст</td>\n",
              "    </tr>\n",
              "  </tbody>\n",
              "</table>\n",
              "<p>520 rows × 10 columns</p>\n",
              "</div>"
            ],
            "text/plain": [
              "                                                Ссылка  \\\n",
              "0    https://www.litres.ru/fredrik-bakman/trevozhny...   \n",
              "1    https://www.litres.ru/evgeniy-vodolazkin/oprav...   \n",
              "2    https://www.litres.ru/fredrik-bakman/vtoraya-z...   \n",
              "3      https://www.litres.ru/boris-akunin/mir-i-voyna/   \n",
              "4       https://www.litres.ru/evgeniy-vodolazkin/lavr/   \n",
              "..                                                 ...   \n",
              "515  https://www.litres.ru/viktor-remizov/vechnaya-...   \n",
              "516  https://www.litres.ru/svetlana-sachkova-241428...   \n",
              "517  https://www.litres.ru/edvard-radzinskiy/russki...   \n",
              "518  https://www.litres.ru/aleksandr-mihaylovskiy-4...   \n",
              "519  https://www.litres.ru/masha-traub/vsegda-kto-t...   \n",
              "\n",
              "               Название книги              Имя автора Цена книги Оценка  \\\n",
              "0              Тревожные люди          Фредрик Бакман      349 ₽    4,6   \n",
              "1          Оправдание Острова      Евгений Водолазкин      499 ₽    4,3   \n",
              "2            Вторая жизнь Уве          Фредрик Бакман      299 ₽    4,8   \n",
              "3                 Мир и война            Борис Акунин      419 ₽    4,4   \n",
              "4                        Лавр      Евгений Водолазкин      399 ₽    4,5   \n",
              "..                        ...                     ...        ...    ...   \n",
              "515           Вечная мерзлота          Виктор Ремизов      299 ₽    4,5   \n",
              "516              Люди и птицы        Светлана Сачкова      289 ₽    4,4   \n",
              "517              Русские цари       Эдвард Радзинский      579 ₽    4,0   \n",
              "518  Пусть ярость благородная  Александр Михайловский      164 ₽    4,3   \n",
              "519      Всегда кто-то платит              Маша Трауб      164 ₽    4,2   \n",
              "\n",
              "    Кол-во оценок                  Кол-во страниц  \\\n",
              "0             885   Объем: 300 стр. 1 иллюстрация   \n",
              "1              71                 Объем: 290 стр.   \n",
              "2            5082  Объем: 330 стр. 41 иллюстрация   \n",
              "3            1844  Объем: 250 стр. 59 иллюстраций   \n",
              "4            3188  Объем: 390 стр. 43 иллюстрации   \n",
              "..            ...                             ...   \n",
              "515            19                Объем: 1160 стр.   \n",
              "516            30                 Объем: 450 стр.   \n",
              "517             7                Объем: 1120 стр.   \n",
              "518           199                 Объем: 380 стр.   \n",
              "519           526                 Объем: 220 стр.   \n",
              "\n",
              "                                  Жанр  Кол-во книг у автора    Тип  \n",
              "0    современная зарубежная литература                    22  Текст  \n",
              "1       современная русская литература                    38  Текст  \n",
              "2    современная зарубежная литература                    22  Текст  \n",
              "3              историческая литература                   239  Текст  \n",
              "4              историческая литература                    38  Текст  \n",
              "..                                 ...                   ...    ...  \n",
              "515            историческая литература                     7  Текст  \n",
              "516     современная русская литература                     2  Текст  \n",
              "517                биографии и мемуары                    97  Текст  \n",
              "518           исторические приключения                   104  Текст  \n",
              "519     современная русская литература                    90  Текст  \n",
              "\n",
              "[520 rows x 10 columns]"
            ]
          },
          "execution_count": 798,
          "metadata": {},
          "output_type": "execute_result"
        }
      ],
      "source": [
        "df = pd.read_csv('/Users/a181464/Desktop/финаха/МО/ДТЗ LitRes/df.csv')\n",
        "df"
      ]
    },
    {
      "cell_type": "code",
      "execution_count": null,
      "metadata": {
        "id": "rGKCkSNnPc0j",
        "outputId": "8e7cd734-51a5-4e03-f8bd-cfd72d3d637c"
      },
      "outputs": [
        {
          "data": {
            "text/plain": [
              "'349\\xa0₽'"
            ]
          },
          "execution_count": 799,
          "metadata": {},
          "output_type": "execute_result"
        }
      ],
      "source": [
        "df['Цена книги'][0]"
      ]
    },
    {
      "cell_type": "code",
      "execution_count": null,
      "metadata": {
        "id": "-gqdMJGXPc0j",
        "outputId": "076b604a-69f0-4970-86eb-e94a8809f0ae"
      },
      "outputs": [
        {
          "data": {
            "text/plain": [
              "349"
            ]
          },
          "execution_count": 800,
          "metadata": {},
          "output_type": "execute_result"
        }
      ],
      "source": [
        "\n",
        "a = df['Цена книги'][0]\n",
        "a = int(re.findall('\\d*', a)[0])\n",
        "a"
      ]
    },
    {
      "cell_type": "code",
      "execution_count": null,
      "metadata": {
        "id": "G1Nx-uEUPc0k",
        "outputId": "0697dcdc-7dc6-42b2-8f95-2a00ffeeeb2c"
      },
      "outputs": [
        {
          "name": "stderr",
          "output_type": "stream",
          "text": [
            "/opt/anaconda3/lib/python3.7/site-packages/ipykernel_launcher.py:2: SettingWithCopyWarning: \n",
            "A value is trying to be set on a copy of a slice from a DataFrame\n",
            "\n",
            "See the caveats in the documentation: https://pandas.pydata.org/pandas-docs/stable/user_guide/indexing.html#returning-a-view-versus-a-copy\n",
            "  \n",
            "/opt/anaconda3/lib/python3.7/site-packages/ipykernel_launcher.py:3: SettingWithCopyWarning: \n",
            "A value is trying to be set on a copy of a slice from a DataFrame\n",
            "\n",
            "See the caveats in the documentation: https://pandas.pydata.org/pandas-docs/stable/user_guide/indexing.html#returning-a-view-versus-a-copy\n",
            "  This is separate from the ipykernel package so we can avoid doing imports until\n",
            "/opt/anaconda3/lib/python3.7/site-packages/ipykernel_launcher.py:4: SettingWithCopyWarning: \n",
            "A value is trying to be set on a copy of a slice from a DataFrame\n",
            "\n",
            "See the caveats in the documentation: https://pandas.pydata.org/pandas-docs/stable/user_guide/indexing.html#returning-a-view-versus-a-copy\n",
            "  after removing the cwd from sys.path.\n"
          ]
        }
      ],
      "source": [
        "for i in range(len(df['Цена книги'])):\n",
        "    df['Цена книги'][i] = int(re.findall('\\d*', df['Цена книги'][i])[0])\n",
        "    df['Кол-во оценок'][i] =int(df['Кол-во оценок'][i].replace(' ', ''))\n",
        "    df['Оценка'][i] = float(df['Оценка'][i].replace(',', '.'))"
      ]
    },
    {
      "cell_type": "code",
      "execution_count": null,
      "metadata": {
        "id": "BZ9KPj3SPc0k",
        "outputId": "bef580d2-3762-4b01-bb19-d76d3e5977da"
      },
      "outputs": [
        {
          "data": {
            "text/plain": [
              "'Объем: 300 стр. 1 иллюстрация'"
            ]
          },
          "execution_count": 802,
          "metadata": {},
          "output_type": "execute_result"
        }
      ],
      "source": [
        "df['Кол-во страниц'][0]"
      ]
    },
    {
      "cell_type": "code",
      "execution_count": null,
      "metadata": {
        "id": "-FZ9_pNWPc0k"
      },
      "outputs": [],
      "source": [
        "def repl_text(a):\n",
        "    a = a.replace('Объем: ', '')\n",
        "    a = int(re.findall('\\d*', a)[0])\n",
        "    return a"
      ]
    },
    {
      "cell_type": "code",
      "execution_count": null,
      "metadata": {
        "id": "8J4iy3rJPc0k",
        "outputId": "0a6d6dce-769d-4994-e5eb-50d4956d4806"
      },
      "outputs": [
        {
          "data": {
            "text/plain": [
              "'Длительность: 6 ч. 38 мин. 06 сек.'"
            ]
          },
          "execution_count": 804,
          "metadata": {},
          "output_type": "execute_result"
        }
      ],
      "source": [
        "df['Кол-во страниц'][50]"
      ]
    },
    {
      "cell_type": "code",
      "execution_count": null,
      "metadata": {
        "id": "0jUr2sxCPc0k"
      },
      "outputs": [],
      "source": [
        "def repl_audio(a):\n",
        "    a = a.replace('Длительность: ', '').replace(' ч.', '').replace(' мин.', '').replace(' сек.', '')\n",
        "    a = re.findall('\\d*', a)\n",
        "    x = (int(a[0]) * 3600 + int(a[2]) * 60 + int(a[4])) / 150\n",
        "    return x"
      ]
    },
    {
      "cell_type": "code",
      "execution_count": null,
      "metadata": {
        "id": "ohysBrzSPc0k",
        "outputId": "6bd9f93e-50b7-4aad-ddb0-95beefe42ee7"
      },
      "outputs": [
        {
          "name": "stderr",
          "output_type": "stream",
          "text": [
            "/opt/anaconda3/lib/python3.7/site-packages/ipykernel_launcher.py:1: SettingWithCopyWarning: \n",
            "A value is trying to be set on a copy of a slice from a DataFrame\n",
            "\n",
            "See the caveats in the documentation: https://pandas.pydata.org/pandas-docs/stable/user_guide/indexing.html#returning-a-view-versus-a-copy\n",
            "  \"\"\"Entry point for launching an IPython kernel.\n"
          ]
        }
      ],
      "source": [
        "df['Тип'][275] = 'Текст'"
      ]
    },
    {
      "cell_type": "code",
      "execution_count": null,
      "metadata": {
        "id": "w-YJZGKfPc0k",
        "outputId": "47932059-feef-4363-fe59-8010a25c824c"
      },
      "outputs": [
        {
          "name": "stderr",
          "output_type": "stream",
          "text": [
            "/opt/anaconda3/lib/python3.7/site-packages/ipykernel_launcher.py:3: SettingWithCopyWarning: \n",
            "A value is trying to be set on a copy of a slice from a DataFrame\n",
            "\n",
            "See the caveats in the documentation: https://pandas.pydata.org/pandas-docs/stable/user_guide/indexing.html#returning-a-view-versus-a-copy\n",
            "  This is separate from the ipykernel package so we can avoid doing imports until\n",
            "/opt/anaconda3/lib/python3.7/site-packages/ipykernel_launcher.py:5: SettingWithCopyWarning: \n",
            "A value is trying to be set on a copy of a slice from a DataFrame\n",
            "\n",
            "See the caveats in the documentation: https://pandas.pydata.org/pandas-docs/stable/user_guide/indexing.html#returning-a-view-versus-a-copy\n",
            "  \"\"\"\n"
          ]
        }
      ],
      "source": [
        "for i in range(len(df)):\n",
        "    if df['Тип'][i] == 'Текст':\n",
        "        df['Кол-во страниц'][i] = repl_text(df['Кол-во страниц'][i])\n",
        "    else:\n",
        "        df['Кол-во страниц'][i] = repl_audio(df['Кол-во страниц'][i])"
      ]
    },
    {
      "cell_type": "code",
      "execution_count": null,
      "metadata": {
        "scrolled": true,
        "id": "ufOCMWRdPc0k",
        "outputId": "59342d6c-3df5-41c9-e261-e6ffedd5f810"
      },
      "outputs": [
        {
          "data": {
            "text/html": [
              "<div>\n",
              "<style scoped>\n",
              "    .dataframe tbody tr th:only-of-type {\n",
              "        vertical-align: middle;\n",
              "    }\n",
              "\n",
              "    .dataframe tbody tr th {\n",
              "        vertical-align: top;\n",
              "    }\n",
              "\n",
              "    .dataframe thead th {\n",
              "        text-align: right;\n",
              "    }\n",
              "</style>\n",
              "<table border=\"1\" class=\"dataframe\">\n",
              "  <thead>\n",
              "    <tr style=\"text-align: right;\">\n",
              "      <th></th>\n",
              "      <th>Ссылка</th>\n",
              "      <th>Название книги</th>\n",
              "      <th>Имя автора</th>\n",
              "      <th>Цена книги</th>\n",
              "      <th>Оценка</th>\n",
              "      <th>Кол-во оценок</th>\n",
              "      <th>Кол-во страниц</th>\n",
              "      <th>Жанр</th>\n",
              "      <th>Кол-во книг у автора</th>\n",
              "      <th>Тип</th>\n",
              "    </tr>\n",
              "  </thead>\n",
              "  <tbody>\n",
              "    <tr>\n",
              "      <th>0</th>\n",
              "      <td>https://www.litres.ru/fredrik-bakman/trevozhny...</td>\n",
              "      <td>Тревожные люди</td>\n",
              "      <td>Фредрик Бакман</td>\n",
              "      <td>349</td>\n",
              "      <td>4.6</td>\n",
              "      <td>885</td>\n",
              "      <td>300</td>\n",
              "      <td>современная зарубежная литература</td>\n",
              "      <td>22</td>\n",
              "      <td>Текст</td>\n",
              "    </tr>\n",
              "    <tr>\n",
              "      <th>1</th>\n",
              "      <td>https://www.litres.ru/evgeniy-vodolazkin/oprav...</td>\n",
              "      <td>Оправдание Острова</td>\n",
              "      <td>Евгений Водолазкин</td>\n",
              "      <td>499</td>\n",
              "      <td>4.3</td>\n",
              "      <td>71</td>\n",
              "      <td>290</td>\n",
              "      <td>современная русская литература</td>\n",
              "      <td>38</td>\n",
              "      <td>Текст</td>\n",
              "    </tr>\n",
              "    <tr>\n",
              "      <th>2</th>\n",
              "      <td>https://www.litres.ru/fredrik-bakman/vtoraya-z...</td>\n",
              "      <td>Вторая жизнь Уве</td>\n",
              "      <td>Фредрик Бакман</td>\n",
              "      <td>299</td>\n",
              "      <td>4.8</td>\n",
              "      <td>5082</td>\n",
              "      <td>330</td>\n",
              "      <td>современная зарубежная литература</td>\n",
              "      <td>22</td>\n",
              "      <td>Текст</td>\n",
              "    </tr>\n",
              "    <tr>\n",
              "      <th>3</th>\n",
              "      <td>https://www.litres.ru/boris-akunin/mir-i-voyna/</td>\n",
              "      <td>Мир и война</td>\n",
              "      <td>Борис Акунин</td>\n",
              "      <td>419</td>\n",
              "      <td>4.4</td>\n",
              "      <td>1844</td>\n",
              "      <td>250</td>\n",
              "      <td>историческая литература</td>\n",
              "      <td>239</td>\n",
              "      <td>Текст</td>\n",
              "    </tr>\n",
              "    <tr>\n",
              "      <th>4</th>\n",
              "      <td>https://www.litres.ru/evgeniy-vodolazkin/lavr/</td>\n",
              "      <td>Лавр</td>\n",
              "      <td>Евгений Водолазкин</td>\n",
              "      <td>399</td>\n",
              "      <td>4.5</td>\n",
              "      <td>3188</td>\n",
              "      <td>390</td>\n",
              "      <td>историческая литература</td>\n",
              "      <td>38</td>\n",
              "      <td>Текст</td>\n",
              "    </tr>\n",
              "    <tr>\n",
              "      <th>...</th>\n",
              "      <td>...</td>\n",
              "      <td>...</td>\n",
              "      <td>...</td>\n",
              "      <td>...</td>\n",
              "      <td>...</td>\n",
              "      <td>...</td>\n",
              "      <td>...</td>\n",
              "      <td>...</td>\n",
              "      <td>...</td>\n",
              "      <td>...</td>\n",
              "    </tr>\n",
              "    <tr>\n",
              "      <th>515</th>\n",
              "      <td>https://www.litres.ru/viktor-remizov/vechnaya-...</td>\n",
              "      <td>Вечная мерзлота</td>\n",
              "      <td>Виктор Ремизов</td>\n",
              "      <td>299</td>\n",
              "      <td>4.5</td>\n",
              "      <td>19</td>\n",
              "      <td>1160</td>\n",
              "      <td>историческая литература</td>\n",
              "      <td>7</td>\n",
              "      <td>Текст</td>\n",
              "    </tr>\n",
              "    <tr>\n",
              "      <th>516</th>\n",
              "      <td>https://www.litres.ru/svetlana-sachkova-241428...</td>\n",
              "      <td>Люди и птицы</td>\n",
              "      <td>Светлана Сачкова</td>\n",
              "      <td>289</td>\n",
              "      <td>4.4</td>\n",
              "      <td>30</td>\n",
              "      <td>450</td>\n",
              "      <td>современная русская литература</td>\n",
              "      <td>2</td>\n",
              "      <td>Текст</td>\n",
              "    </tr>\n",
              "    <tr>\n",
              "      <th>517</th>\n",
              "      <td>https://www.litres.ru/edvard-radzinskiy/russki...</td>\n",
              "      <td>Русские цари</td>\n",
              "      <td>Эдвард Радзинский</td>\n",
              "      <td>579</td>\n",
              "      <td>4</td>\n",
              "      <td>7</td>\n",
              "      <td>1120</td>\n",
              "      <td>биографии и мемуары</td>\n",
              "      <td>97</td>\n",
              "      <td>Текст</td>\n",
              "    </tr>\n",
              "    <tr>\n",
              "      <th>518</th>\n",
              "      <td>https://www.litres.ru/aleksandr-mihaylovskiy-4...</td>\n",
              "      <td>Пусть ярость благородная</td>\n",
              "      <td>Александр Михайловский</td>\n",
              "      <td>164</td>\n",
              "      <td>4.3</td>\n",
              "      <td>199</td>\n",
              "      <td>380</td>\n",
              "      <td>исторические приключения</td>\n",
              "      <td>104</td>\n",
              "      <td>Текст</td>\n",
              "    </tr>\n",
              "    <tr>\n",
              "      <th>519</th>\n",
              "      <td>https://www.litres.ru/masha-traub/vsegda-kto-t...</td>\n",
              "      <td>Всегда кто-то платит</td>\n",
              "      <td>Маша Трауб</td>\n",
              "      <td>164</td>\n",
              "      <td>4.2</td>\n",
              "      <td>526</td>\n",
              "      <td>220</td>\n",
              "      <td>современная русская литература</td>\n",
              "      <td>90</td>\n",
              "      <td>Текст</td>\n",
              "    </tr>\n",
              "  </tbody>\n",
              "</table>\n",
              "<p>520 rows × 10 columns</p>\n",
              "</div>"
            ],
            "text/plain": [
              "                                                Ссылка  \\\n",
              "0    https://www.litres.ru/fredrik-bakman/trevozhny...   \n",
              "1    https://www.litres.ru/evgeniy-vodolazkin/oprav...   \n",
              "2    https://www.litres.ru/fredrik-bakman/vtoraya-z...   \n",
              "3      https://www.litres.ru/boris-akunin/mir-i-voyna/   \n",
              "4       https://www.litres.ru/evgeniy-vodolazkin/lavr/   \n",
              "..                                                 ...   \n",
              "515  https://www.litres.ru/viktor-remizov/vechnaya-...   \n",
              "516  https://www.litres.ru/svetlana-sachkova-241428...   \n",
              "517  https://www.litres.ru/edvard-radzinskiy/russki...   \n",
              "518  https://www.litres.ru/aleksandr-mihaylovskiy-4...   \n",
              "519  https://www.litres.ru/masha-traub/vsegda-kto-t...   \n",
              "\n",
              "               Название книги              Имя автора Цена книги Оценка  \\\n",
              "0              Тревожные люди          Фредрик Бакман        349    4.6   \n",
              "1          Оправдание Острова      Евгений Водолазкин        499    4.3   \n",
              "2            Вторая жизнь Уве          Фредрик Бакман        299    4.8   \n",
              "3                 Мир и война            Борис Акунин        419    4.4   \n",
              "4                        Лавр      Евгений Водолазкин        399    4.5   \n",
              "..                        ...                     ...        ...    ...   \n",
              "515           Вечная мерзлота          Виктор Ремизов        299    4.5   \n",
              "516              Люди и птицы        Светлана Сачкова        289    4.4   \n",
              "517              Русские цари       Эдвард Радзинский        579      4   \n",
              "518  Пусть ярость благородная  Александр Михайловский        164    4.3   \n",
              "519      Всегда кто-то платит              Маша Трауб        164    4.2   \n",
              "\n",
              "    Кол-во оценок Кол-во страниц                               Жанр  \\\n",
              "0             885            300  современная зарубежная литература   \n",
              "1              71            290     современная русская литература   \n",
              "2            5082            330  современная зарубежная литература   \n",
              "3            1844            250            историческая литература   \n",
              "4            3188            390            историческая литература   \n",
              "..            ...            ...                                ...   \n",
              "515            19           1160            историческая литература   \n",
              "516            30            450     современная русская литература   \n",
              "517             7           1120                биографии и мемуары   \n",
              "518           199            380           исторические приключения   \n",
              "519           526            220     современная русская литература   \n",
              "\n",
              "     Кол-во книг у автора    Тип  \n",
              "0                      22  Текст  \n",
              "1                      38  Текст  \n",
              "2                      22  Текст  \n",
              "3                     239  Текст  \n",
              "4                      38  Текст  \n",
              "..                    ...    ...  \n",
              "515                     7  Текст  \n",
              "516                     2  Текст  \n",
              "517                    97  Текст  \n",
              "518                   104  Текст  \n",
              "519                    90  Текст  \n",
              "\n",
              "[520 rows x 10 columns]"
            ]
          },
          "execution_count": 808,
          "metadata": {},
          "output_type": "execute_result"
        }
      ],
      "source": [
        "df"
      ]
    },
    {
      "cell_type": "code",
      "execution_count": null,
      "metadata": {
        "id": "SMDfahHrPc0l"
      },
      "outputs": [],
      "source": [
        "df_ = df"
      ]
    },
    {
      "cell_type": "code",
      "execution_count": null,
      "metadata": {
        "id": "PB5yWru3Pc0l",
        "outputId": "abcdacba-094d-4926-d0a5-c26c841dc6c1"
      },
      "outputs": [
        {
          "data": {
            "text/plain": [
              "<matplotlib.axes._subplots.AxesSubplot at 0x7fc1060f6950>"
            ]
          },
          "execution_count": 810,
          "metadata": {},
          "output_type": "execute_result"
        },
        {
          "data": {
            "image/png": "[encoded data removed]",
            "text/plain": [
              "<Figure size 432x288 with 1 Axes>"
            ]
          },
          "metadata": {
            "needs_background": "light"
          },
          "output_type": "display_data"
        }
      ],
      "source": [
        "df['Цена книги'].hist()"
      ]
    },
    {
      "cell_type": "code",
      "execution_count": null,
      "metadata": {
        "id": "wgZl_cA6Pc0l",
        "outputId": "87ca61cc-bba0-47cc-a9e4-b13f8958306c"
      },
      "outputs": [
        {
          "data": {
            "text/plain": [
              "<matplotlib.axes._subplots.AxesSubplot at 0x7fc11f42a650>"
            ]
          },
          "execution_count": 811,
          "metadata": {},
          "output_type": "execute_result"
        },
        {
          "data": {
            "image/png": "[encoded data removed]",
            "text/plain": [
              "<Figure size 432x288 with 1 Axes>"
            ]
          },
          "metadata": {
            "needs_background": "light"
          },
          "output_type": "display_data"
        }
      ],
      "source": [
        "sns.distplot(df['Цена книги'],kde=True)"
      ]
    },
    {
      "cell_type": "code",
      "execution_count": null,
      "metadata": {
        "id": "YDzld3SXPc0l",
        "outputId": "ca4c6fc0-41f3-4566-83d2-46d344d2ff9b"
      },
      "outputs": [
        {
          "name": "stdout",
          "output_type": "stream",
          "text": [
            "<class 'pandas.core.frame.DataFrame'>\n",
            "RangeIndex: 520 entries, 0 to 519\n",
            "Data columns (total 10 columns):\n",
            " #   Column                Non-Null Count  Dtype  \n",
            "---  ------                --------------  -----  \n",
            " 0   Ссылка                520 non-null    object \n",
            " 1   Название книги        520 non-null    object \n",
            " 2   Имя автора            520 non-null    object \n",
            " 3   Цена книги            520 non-null    int64  \n",
            " 4   Оценка                520 non-null    float64\n",
            " 5   Кол-во оценок         520 non-null    int64  \n",
            " 6   Кол-во страниц        520 non-null    int64  \n",
            " 7   Жанр                  520 non-null    object \n",
            " 8   Кол-во книг у автора  520 non-null    int64  \n",
            " 9   Тип                   520 non-null    object \n",
            "dtypes: float64(1), int64(4), object(5)\n",
            "memory usage: 40.8+ KB\n"
          ]
        }
      ],
      "source": [
        "df['Цена книги'] = df['Цена книги'].astype('int64')\n",
        "df['Кол-во страниц'] = df['Кол-во страниц'].astype('int64')\n",
        "df['Кол-во оценок'] = df['Кол-во оценок'].astype('int64')\n",
        "df['Оценка'] = df['Оценка'].astype('float')\n",
        "df.info()"
      ]
    },
    {
      "cell_type": "code",
      "execution_count": null,
      "metadata": {
        "id": "uiS9RsGnPc0l"
      },
      "outputs": [],
      "source": [
        "df = df.drop('Ссылка', axis = 1)"
      ]
    },
    {
      "cell_type": "code",
      "execution_count": null,
      "metadata": {
        "id": "AyHp7GMpPc0l",
        "outputId": "39446b42-ff29-428d-bf57-f50fb378a78f"
      },
      "outputs": [
        {
          "name": "stdout",
          "output_type": "stream",
          "text": [
            "Признак: Название книги, кол-во уникальных значений: 415\n",
            "Уникальные значения: \n",
            "Оправдание Острова                 4\n",
            "Тайные виды на гору Фудзи          4\n",
            "Тревожные люди                     4\n",
            "Лавр                               4\n",
            "Мир и война                        4\n",
            "                                  ..\n",
            "Отель «Нью-Гэмпшир»                1\n",
            "Generation «П»                     1\n",
            "Пандемия. Аркада. Эпизод первый    1\n",
            "Фаворит (часть 4)                  1\n",
            "Смотритель                         1\n",
            "Name: Название книги, Length: 415, dtype: int64 \n",
            "\n",
            "Признак: Имя автора, кол-во уникальных значений: 212\n",
            "Уникальные значения: \n",
            "Виктор Пелевин          29\n",
            "Дина Рубина             28\n",
            "Борис Акунин            20\n",
            "Евгений Водолазкин      20\n",
            "Фредрик Бакман          19\n",
            "                        ..\n",
            "Т. Кристиан Миллер       1\n",
            "Мишель Уэльбек           1\n",
            "Фиона Валпи              1\n",
            "Абрахам Вергезе          1\n",
            "Александр Солженицын     1\n",
            "Name: Имя автора, Length: 212, dtype: int64 \n",
            "\n",
            "Признак: Жанр, кол-во уникальных значений: 42\n",
            "Уникальные значения: \n",
            "современная русская литература           176\n",
            "современная зарубежная литература        142\n",
            "историческая литература                   84\n",
            "биографии и мемуары                       14\n",
            "зарубежные приключения                     9\n",
            "легкая проза                               9\n",
            "книги о войне                              8\n",
            "зарубежные детективы                       5\n",
            "пьесы и драматургия                        5\n",
            "контркультура                              5\n",
            "документальная литература                  5\n",
            "зарубежная психология                      3\n",
            "зарубежные любовные романы                 3\n",
            "исторические детективы                     3\n",
            "мистика                                    3\n",
            "боевая фантастика                          3\n",
            "зарубежная классика                        3\n",
            "истории из жизни                           3\n",
            "научная фантастика                         3\n",
            "публицистика                               3\n",
            "боевики                                    3\n",
            "военное дело  спецслужбы                   3\n",
            "советская литература                       2\n",
            "исторические приключения                   2\n",
            "городское фэнтези                          2\n",
            "детская проза                              2\n",
            "книги для подростков                       2\n",
            "классическая проза                         1\n",
            "психотерапия                               1\n",
            "зарубежная эзотерическая литература        1\n",
            "зарубежная публицистика                    1\n",
            "детские детективы                          1\n",
            "литература 20 века                         1\n",
            "о психологии популярно                     1\n",
            "зарубежная образовательная литература      1\n",
            "книги о путешествиях                       1\n",
            "книги о приключениях                       1\n",
            "книги для детей                            1\n",
            "психоанализ                                1\n",
            "домашние животные                          1\n",
            "саморазвитие  личностный рост              1\n",
            "практическая психология                    1\n",
            "Name: Жанр, dtype: int64 \n",
            "\n",
            "Признак: Тип, кол-во уникальных значений: 2\n",
            "Уникальные значения: \n",
            "Текст    415\n",
            "Аудио    105\n",
            "Name: Тип, dtype: int64 \n",
            "\n"
          ]
        }
      ],
      "source": [
        "categorical_columns= [column for column in df.columns if df[column].dtype == 'object']\n",
        "numerical_columns = [column for column in df.columns if df[column].dtype != 'object']\n",
        "\n",
        "for column in categorical_columns:\n",
        "    print('Признак: {}, кол-во уникальных значений: {}'.format(column, df[column].nunique()))\n",
        "    print('Уникальные значения: ')\n",
        "    print(df[column].value_counts(), '\\n')"
      ]
    },
    {
      "cell_type": "code",
      "execution_count": null,
      "metadata": {
        "id": "hJJUWdc2Pc0l"
      },
      "outputs": [],
      "source": [
        "genre = list(df['Жанр'].unique())\n",
        "genre1 = ['современная зарубежная литература', 'зарубежные детективы',\n",
        "         'зарубежные приключения', 'зарубежная классика', 'зарубежная психология',\n",
        "         'зарубежная эзотерическая литература', 'зарубежные любовные романы',\n",
        "         'зарубежная образовательная литература', 'зарубежная публицистика']\n",
        "genre2 = ['современная русская литература', 'советская литература', 'легкая проза',\n",
        "          'публицистика', 'литература 20 века', 'пьесы и драматургия', 'классическая проза']\n",
        "genre3 = ['историческая литература', 'биографии и мемуары', 'военное дело  спецслужбы',\n",
        "         'книги о войне', 'истории из жизни', 'исторические приключения',\n",
        "         'документальная литература','исторические детективы','контркультура']\n",
        "genre4 = ['научная фантастика', 'мистика', 'боевики', 'книги для детей', 'боевая фантастика',\n",
        "         'городское фэнтези', 'книги о приключениях', 'детские детективы',\n",
        "         'домашние животные', 'книги о путешествиях', 'детская проза', 'книги для подростков']\n",
        "genre5 = ['саморазвитие  личностный рост', 'практическая психология',\n",
        "          'о психологии популярно', 'психотерапия', 'психоанализ']"
      ]
    },
    {
      "cell_type": "code",
      "execution_count": null,
      "metadata": {
        "scrolled": true,
        "id": "Yl3n08oCPc0l",
        "outputId": "d0823a32-649a-4483-ff9b-478e2bbbb4b4"
      },
      "outputs": [
        {
          "name": "stderr",
          "output_type": "stream",
          "text": [
            "/opt/anaconda3/lib/python3.7/site-packages/ipykernel_launcher.py:3: SettingWithCopyWarning: \n",
            "A value is trying to be set on a copy of a slice from a DataFrame\n",
            "\n",
            "See the caveats in the documentation: https://pandas.pydata.org/pandas-docs/stable/user_guide/indexing.html#returning-a-view-versus-a-copy\n",
            "  This is separate from the ipykernel package so we can avoid doing imports until\n",
            "/opt/anaconda3/lib/python3.7/site-packages/ipykernel_launcher.py:5: SettingWithCopyWarning: \n",
            "A value is trying to be set on a copy of a slice from a DataFrame\n",
            "\n",
            "See the caveats in the documentation: https://pandas.pydata.org/pandas-docs/stable/user_guide/indexing.html#returning-a-view-versus-a-copy\n",
            "  \"\"\"\n",
            "/opt/anaconda3/lib/python3.7/site-packages/ipykernel_launcher.py:7: SettingWithCopyWarning: \n",
            "A value is trying to be set on a copy of a slice from a DataFrame\n",
            "\n",
            "See the caveats in the documentation: https://pandas.pydata.org/pandas-docs/stable/user_guide/indexing.html#returning-a-view-versus-a-copy\n",
            "  import sys\n",
            "/opt/anaconda3/lib/python3.7/site-packages/ipykernel_launcher.py:9: SettingWithCopyWarning: \n",
            "A value is trying to be set on a copy of a slice from a DataFrame\n",
            "\n",
            "See the caveats in the documentation: https://pandas.pydata.org/pandas-docs/stable/user_guide/indexing.html#returning-a-view-versus-a-copy\n",
            "  if __name__ == '__main__':\n",
            "/opt/anaconda3/lib/python3.7/site-packages/ipykernel_launcher.py:11: SettingWithCopyWarning: \n",
            "A value is trying to be set on a copy of a slice from a DataFrame\n",
            "\n",
            "See the caveats in the documentation: https://pandas.pydata.org/pandas-docs/stable/user_guide/indexing.html#returning-a-view-versus-a-copy\n",
            "  # This is added back by InteractiveShellApp.init_path()\n"
          ]
        }
      ],
      "source": [
        "for i in range(len(df)):\n",
        "    if df['Жанр'][i] in genre1:\n",
        "        df['Жанр'][i] = 'зарубежная литература'\n",
        "    elif df['Жанр'][i] in genre2:\n",
        "        df['Жанр'][i] = 'русская литература'\n",
        "    elif df['Жанр'][i] in genre3:\n",
        "        df['Жанр'][i] = 'история'\n",
        "    elif df['Жанр'][i] in genre4:\n",
        "        df['Жанр'][i] = 'легкая литература'\n",
        "    elif df['Жанр'][i] in genre5:\n",
        "        df['Жанр'][i] = 'психология'"
      ]
    },
    {
      "cell_type": "code",
      "execution_count": null,
      "metadata": {
        "id": "SNkZPGmlPc0l"
      },
      "outputs": [],
      "source": [
        "#for i in range(len(df)):\n",
        "#    if df['Жанр'][i] not in ['современная зарубежная литература', 'современная русская литература', 'историческая литература']:\n",
        "#        df['Жанр'][i] = 'другая литература'"
      ]
    },
    {
      "cell_type": "code",
      "execution_count": null,
      "metadata": {
        "id": "qqhP4-p9Pc0l",
        "outputId": "c7efb3c0-279a-4e8b-8245-e87bc8296988"
      },
      "outputs": [
        {
          "data": {
            "text/plain": [
              "['зарубежная литература',\n",
              " 'русская литература',\n",
              " 'история',\n",
              " 'легкая литература',\n",
              " 'психология']"
            ]
          },
          "execution_count": 818,
          "metadata": {},
          "output_type": "execute_result"
        }
      ],
      "source": [
        "list(df['Жанр'].unique())"
      ]
    },
    {
      "cell_type": "code",
      "execution_count": null,
      "metadata": {
        "id": "cz9PyxrYPc0m",
        "outputId": "d196218b-ad23-49eb-c249-202f2e12ae0d"
      },
      "outputs": [
        {
          "data": {
            "text/plain": [
              "<matplotlib.axes._subplots.AxesSubplot at 0x7fc1060b4a50>"
            ]
          },
          "execution_count": 819,
          "metadata": {},
          "output_type": "execute_result"
        },
        {
          "data": {
            "image/png": "[encoded data removed]",
            "text/plain": [
              "<Figure size 360x360 with 1 Axes>"
            ]
          },
          "metadata": {},
          "output_type": "display_data"
        }
      ],
      "source": [
        "df1 = pd.DataFrame(df['Тип'].value_counts())\n",
        "df1.plot.pie(y = 'Тип', figsize=(5, 5), autopct='%1.1f%%', startangle = 90)"
      ]
    },
    {
      "cell_type": "code",
      "execution_count": null,
      "metadata": {
        "id": "qsk0Y_qRPc0m",
        "outputId": "b5ff8895-546a-4740-a8de-a4332e78f0da"
      },
      "outputs": [
        {
          "data": {
            "text/plain": [
              "<matplotlib.axes._subplots.AxesSubplot at 0x7fc103887790>"
            ]
          },
          "execution_count": 820,
          "metadata": {},
          "output_type": "execute_result"
        },
        {
          "data": {
            "image/png": "[encoded data removed]",
            "text/plain": [
              "<Figure size 864x864 with 2 Axes>"
            ]
          },
          "metadata": {
            "needs_background": "light"
          },
          "output_type": "display_data"
        }
      ],
      "source": [
        "correlation = df.corr()\n",
        "plt.figure(figsize = (12 , 12))\n",
        "sns.heatmap(correlation)"
      ]
    },
    {
      "cell_type": "code",
      "execution_count": null,
      "metadata": {
        "id": "XtQb_iuLPc0m",
        "outputId": "95332f08-2b3f-49e6-c769-018011afb0c8"
      },
      "outputs": [
        {
          "data": {
            "image/png": "[encoded data removed]",
            "text/plain": [
              "<Figure size 576x432 with 1 Axes>"
            ]
          },
          "metadata": {
            "needs_background": "light"
          },
          "output_type": "display_data"
        },
        {
          "data": {
            "image/png": "[encoded data removed]",
            "text/plain": [
              "<Figure size 576x432 with 1 Axes>"
            ]
          },
          "metadata": {
            "needs_background": "light"
          },
          "output_type": "display_data"
        },
        {
          "data": {
            "image/png": "[encoded data removed]",
            "text/plain": [
              "<Figure size 576x432 with 1 Axes>"
            ]
          },
          "metadata": {
            "needs_background": "light"
          },
          "output_type": "display_data"
        }
      ],
      "source": [
        "for col in ['Тип', 'Жанр', 'Оценка']:\n",
        "    fig = plt.figure(figsize=(8,6))\n",
        "    ax = fig.gca()\n",
        "    sns.boxplot(x = df[col], y = 'Цена книги', data = df, palette='Pastel1')"
      ]
    },
    {
      "cell_type": "code",
      "execution_count": null,
      "metadata": {
        "id": "FGVn-ZkGPc0m",
        "outputId": "e0e04276-0b0b-4187-de03-122309fbab4c"
      },
      "outputs": [
        {
          "data": {
            "image/png": "[encoded data removed]",
            "text/plain": [
              "<Figure size 576x432 with 1 Axes>"
            ]
          },
          "metadata": {
            "needs_background": "light"
          },
          "output_type": "display_data"
        },
        {
          "data": {
            "image/png": "[encoded data removed]",
            "text/plain": [
              "<Figure size 576x432 with 1 Axes>"
            ]
          },
          "metadata": {
            "needs_background": "light"
          },
          "output_type": "display_data"
        },
        {
          "data": {
            "image/png": "[encoded data removed]",
            "text/plain": [
              "<Figure size 576x432 with 1 Axes>"
            ]
          },
          "metadata": {
            "needs_background": "light"
          },
          "output_type": "display_data"
        },
        {
          "data": {
            "image/png": "[encoded data removed]",
            "text/plain": [
              "<Figure size 576x432 with 1 Axes>"
            ]
          },
          "metadata": {
            "needs_background": "light"
          },
          "output_type": "display_data"
        },
        {
          "data": {
            "image/png": "[encoded data removed]",
            "text/plain": [
              "<Figure size 576x432 with 1 Axes>"
            ]
          },
          "metadata": {
            "needs_background": "light"
          },
          "output_type": "display_data"
        }
      ],
      "source": [
        "for i in numerical_columns:\n",
        "    fig = plt.figure(figsize=(8,6))\n",
        "    ax = fig.gca()\n",
        "    df.boxplot(column = i, ax = ax)"
      ]
    },
    {
      "cell_type": "code",
      "execution_count": null,
      "metadata": {
        "id": "_BkP8OPfPc0m",
        "outputId": "43beb8c3-3f01-4b50-eb70-8d4a9a14dac7"
      },
      "outputs": [
        {
          "data": {
            "text/plain": [
              "array([[<matplotlib.axes._subplots.AxesSubplot object at 0x7fc10632dad0>,\n",
              "        <matplotlib.axes._subplots.AxesSubplot object at 0x7fc107dfdd50>],\n",
              "       [<matplotlib.axes._subplots.AxesSubplot object at 0x7fc10b9ac110>,\n",
              "        <matplotlib.axes._subplots.AxesSubplot object at 0x7fc10c274590>],\n",
              "       [<matplotlib.axes._subplots.AxesSubplot object at 0x7fc10c2a7b10>,\n",
              "        <matplotlib.axes._subplots.AxesSubplot object at 0x7fc10c2ea0d0>]],\n",
              "      dtype=object)"
            ]
          },
          "execution_count": 823,
          "metadata": {},
          "output_type": "execute_result"
        },
        {
          "data": {
            "image/png": "[encoded data removed]",
            "text/plain": [
              "<Figure size 432x288 with 6 Axes>"
            ]
          },
          "metadata": {
            "needs_background": "light"
          },
          "output_type": "display_data"
        }
      ],
      "source": [
        "df.hist()"
      ]
    },
    {
      "cell_type": "code",
      "execution_count": null,
      "metadata": {
        "id": "ZbnMceBePc0m",
        "outputId": "d9c6184f-01bc-4907-88c5-b70478287834"
      },
      "outputs": [
        {
          "name": "stdout",
          "output_type": "stream",
          "text": [
            "{0: 'зарубежная литература', 1: 'история', 2: 'легкая литература', 3: 'психология', 4: 'русская литература'}\n"
          ]
        },
        {
          "data": {
            "image/png": "[encoded data removed]",
            "text/plain": [
              "<Figure size 432x288 with 1 Axes>"
            ]
          },
          "metadata": {
            "needs_background": "light"
          },
          "output_type": "display_data"
        }
      ],
      "source": [
        "from sklearn.preprocessing import LabelEncoder\n",
        "label_encoder = LabelEncoder()\n",
        "mapped_category = pd.Series(label_encoder.fit_transform(df['Жанр']))\n",
        "mapped_category.value_counts().plot.barh()\n",
        "print(dict(enumerate(label_encoder.classes_)))"
      ]
    },
    {
      "cell_type": "code",
      "execution_count": null,
      "metadata": {
        "id": "TgVUWeDqPc0m"
      },
      "outputs": [],
      "source": [
        "for column in categorical_columns:\n",
        "    df[column] = label_encoder.fit_transform(df[column])"
      ]
    },
    {
      "cell_type": "code",
      "execution_count": null,
      "metadata": {
        "id": "-f6KMW_LPc0m"
      },
      "outputs": [],
      "source": [
        "df1 = df"
      ]
    },
    {
      "cell_type": "code",
      "execution_count": null,
      "metadata": {
        "id": "YKIujgLbPc0m",
        "outputId": "160ece0f-0d7c-4939-b203-d3f35e75b3c8"
      },
      "outputs": [
        {
          "data": {
            "text/html": [
              "<div>\n",
              "<style scoped>\n",
              "    .dataframe tbody tr th:only-of-type {\n",
              "        vertical-align: middle;\n",
              "    }\n",
              "\n",
              "    .dataframe tbody tr th {\n",
              "        vertical-align: top;\n",
              "    }\n",
              "\n",
              "    .dataframe thead th {\n",
              "        text-align: right;\n",
              "    }\n",
              "</style>\n",
              "<table border=\"1\" class=\"dataframe\">\n",
              "  <thead>\n",
              "    <tr style=\"text-align: right;\">\n",
              "      <th></th>\n",
              "      <th>Название книги</th>\n",
              "      <th>Имя автора</th>\n",
              "      <th>Цена книги</th>\n",
              "      <th>Оценка</th>\n",
              "      <th>Кол-во оценок</th>\n",
              "      <th>Кол-во страниц</th>\n",
              "      <th>Жанр</th>\n",
              "      <th>Кол-во книг у автора</th>\n",
              "      <th>Тип</th>\n",
              "    </tr>\n",
              "  </thead>\n",
              "  <tbody>\n",
              "    <tr>\n",
              "      <th>0</th>\n",
              "      <td>365</td>\n",
              "      <td>185</td>\n",
              "      <td>349</td>\n",
              "      <td>4.6</td>\n",
              "      <td>885</td>\n",
              "      <td>300</td>\n",
              "      <td>0</td>\n",
              "      <td>22</td>\n",
              "      <td>1</td>\n",
              "    </tr>\n",
              "    <tr>\n",
              "      <th>1</th>\n",
              "      <td>258</td>\n",
              "      <td>81</td>\n",
              "      <td>499</td>\n",
              "      <td>4.3</td>\n",
              "      <td>71</td>\n",
              "      <td>290</td>\n",
              "      <td>4</td>\n",
              "      <td>38</td>\n",
              "      <td>1</td>\n",
              "    </tr>\n",
              "    <tr>\n",
              "      <th>2</th>\n",
              "      <td>69</td>\n",
              "      <td>185</td>\n",
              "      <td>299</td>\n",
              "      <td>4.8</td>\n",
              "      <td>5082</td>\n",
              "      <td>330</td>\n",
              "      <td>0</td>\n",
              "      <td>22</td>\n",
              "      <td>1</td>\n",
              "    </tr>\n",
              "    <tr>\n",
              "      <th>3</th>\n",
              "      <td>205</td>\n",
              "      <td>28</td>\n",
              "      <td>419</td>\n",
              "      <td>4.4</td>\n",
              "      <td>1844</td>\n",
              "      <td>250</td>\n",
              "      <td>1</td>\n",
              "      <td>239</td>\n",
              "      <td>1</td>\n",
              "    </tr>\n",
              "    <tr>\n",
              "      <th>4</th>\n",
              "      <td>182</td>\n",
              "      <td>81</td>\n",
              "      <td>399</td>\n",
              "      <td>4.5</td>\n",
              "      <td>3188</td>\n",
              "      <td>390</td>\n",
              "      <td>1</td>\n",
              "      <td>38</td>\n",
              "      <td>1</td>\n",
              "    </tr>\n",
              "    <tr>\n",
              "      <th>...</th>\n",
              "      <td>...</td>\n",
              "      <td>...</td>\n",
              "      <td>...</td>\n",
              "      <td>...</td>\n",
              "      <td>...</td>\n",
              "      <td>...</td>\n",
              "      <td>...</td>\n",
              "      <td>...</td>\n",
              "      <td>...</td>\n",
              "    </tr>\n",
              "    <tr>\n",
              "      <th>515</th>\n",
              "      <td>57</td>\n",
              "      <td>39</td>\n",
              "      <td>299</td>\n",
              "      <td>4.5</td>\n",
              "      <td>19</td>\n",
              "      <td>1160</td>\n",
              "      <td>1</td>\n",
              "      <td>7</td>\n",
              "      <td>1</td>\n",
              "    </tr>\n",
              "    <tr>\n",
              "      <th>516</th>\n",
              "      <td>192</td>\n",
              "      <td>167</td>\n",
              "      <td>289</td>\n",
              "      <td>4.4</td>\n",
              "      <td>30</td>\n",
              "      <td>450</td>\n",
              "      <td>4</td>\n",
              "      <td>2</td>\n",
              "      <td>1</td>\n",
              "    </tr>\n",
              "    <tr>\n",
              "      <th>517</th>\n",
              "      <td>313</td>\n",
              "      <td>196</td>\n",
              "      <td>579</td>\n",
              "      <td>4.0</td>\n",
              "      <td>7</td>\n",
              "      <td>1120</td>\n",
              "      <td>1</td>\n",
              "      <td>97</td>\n",
              "      <td>1</td>\n",
              "    </tr>\n",
              "    <tr>\n",
              "      <th>518</th>\n",
              "      <td>302</td>\n",
              "      <td>2</td>\n",
              "      <td>164</td>\n",
              "      <td>4.3</td>\n",
              "      <td>199</td>\n",
              "      <td>380</td>\n",
              "      <td>1</td>\n",
              "      <td>104</td>\n",
              "      <td>1</td>\n",
              "    </tr>\n",
              "    <tr>\n",
              "      <th>519</th>\n",
              "      <td>68</td>\n",
              "      <td>136</td>\n",
              "      <td>164</td>\n",
              "      <td>4.2</td>\n",
              "      <td>526</td>\n",
              "      <td>220</td>\n",
              "      <td>4</td>\n",
              "      <td>90</td>\n",
              "      <td>1</td>\n",
              "    </tr>\n",
              "  </tbody>\n",
              "</table>\n",
              "<p>520 rows × 9 columns</p>\n",
              "</div>"
            ],
            "text/plain": [
              "     Название книги  Имя автора  Цена книги  Оценка  Кол-во оценок  \\\n",
              "0               365         185         349     4.6            885   \n",
              "1               258          81         499     4.3             71   \n",
              "2                69         185         299     4.8           5082   \n",
              "3               205          28         419     4.4           1844   \n",
              "4               182          81         399     4.5           3188   \n",
              "..              ...         ...         ...     ...            ...   \n",
              "515              57          39         299     4.5             19   \n",
              "516             192         167         289     4.4             30   \n",
              "517             313         196         579     4.0              7   \n",
              "518             302           2         164     4.3            199   \n",
              "519              68         136         164     4.2            526   \n",
              "\n",
              "     Кол-во страниц  Жанр  Кол-во книг у автора  Тип  \n",
              "0               300     0                    22    1  \n",
              "1               290     4                    38    1  \n",
              "2               330     0                    22    1  \n",
              "3               250     1                   239    1  \n",
              "4               390     1                    38    1  \n",
              "..              ...   ...                   ...  ...  \n",
              "515            1160     1                     7    1  \n",
              "516             450     4                     2    1  \n",
              "517            1120     1                    97    1  \n",
              "518             380     1                   104    1  \n",
              "519             220     4                    90    1  \n",
              "\n",
              "[520 rows x 9 columns]"
            ]
          },
          "execution_count": 827,
          "metadata": {},
          "output_type": "execute_result"
        }
      ],
      "source": [
        "df"
      ]
    },
    {
      "cell_type": "code",
      "execution_count": null,
      "metadata": {
        "id": "N9N6CdoXPc0n"
      },
      "outputs": [],
      "source": [
        "from sklearn.preprocessing import MinMaxScaler\n",
        "scaler = MinMaxScaler()\n",
        "df = pd.DataFrame(scaler.fit_transform(df), columns = df.columns)"
      ]
    },
    {
      "cell_type": "code",
      "execution_count": null,
      "metadata": {
        "id": "CCZzMrV1Pc0n",
        "outputId": "11b13907-cdfe-4683-c5b3-2474e6d08090"
      },
      "outputs": [
        {
          "data": {
            "text/html": [
              "<div>\n",
              "<style scoped>\n",
              "    .dataframe tbody tr th:only-of-type {\n",
              "        vertical-align: middle;\n",
              "    }\n",
              "\n",
              "    .dataframe tbody tr th {\n",
              "        vertical-align: top;\n",
              "    }\n",
              "\n",
              "    .dataframe thead th {\n",
              "        text-align: right;\n",
              "    }\n",
              "</style>\n",
              "<table border=\"1\" class=\"dataframe\">\n",
              "  <thead>\n",
              "    <tr style=\"text-align: right;\">\n",
              "      <th></th>\n",
              "      <th>Название книги</th>\n",
              "      <th>Имя автора</th>\n",
              "      <th>Цена книги</th>\n",
              "      <th>Оценка</th>\n",
              "      <th>Кол-во оценок</th>\n",
              "      <th>Кол-во страниц</th>\n",
              "      <th>Жанр</th>\n",
              "      <th>Кол-во книг у автора</th>\n",
              "      <th>Тип</th>\n",
              "    </tr>\n",
              "  </thead>\n",
              "  <tbody>\n",
              "    <tr>\n",
              "      <th>0</th>\n",
              "      <td>0.881643</td>\n",
              "      <td>0.876777</td>\n",
              "      <td>0.404332</td>\n",
              "      <td>0.80</td>\n",
              "      <td>0.035778</td>\n",
              "      <td>0.116592</td>\n",
              "      <td>0.00</td>\n",
              "      <td>0.029536</td>\n",
              "      <td>1.0</td>\n",
              "    </tr>\n",
              "    <tr>\n",
              "      <th>1</th>\n",
              "      <td>0.623188</td>\n",
              "      <td>0.383886</td>\n",
              "      <td>0.675090</td>\n",
              "      <td>0.65</td>\n",
              "      <td>0.002833</td>\n",
              "      <td>0.112108</td>\n",
              "      <td>1.00</td>\n",
              "      <td>0.052039</td>\n",
              "      <td>1.0</td>\n",
              "    </tr>\n",
              "    <tr>\n",
              "      <th>2</th>\n",
              "      <td>0.166667</td>\n",
              "      <td>0.876777</td>\n",
              "      <td>0.314079</td>\n",
              "      <td>0.90</td>\n",
              "      <td>0.205642</td>\n",
              "      <td>0.130045</td>\n",
              "      <td>0.00</td>\n",
              "      <td>0.029536</td>\n",
              "      <td>1.0</td>\n",
              "    </tr>\n",
              "    <tr>\n",
              "      <th>3</th>\n",
              "      <td>0.495169</td>\n",
              "      <td>0.132701</td>\n",
              "      <td>0.530686</td>\n",
              "      <td>0.70</td>\n",
              "      <td>0.074591</td>\n",
              "      <td>0.094170</td>\n",
              "      <td>0.25</td>\n",
              "      <td>0.334740</td>\n",
              "      <td>1.0</td>\n",
              "    </tr>\n",
              "    <tr>\n",
              "      <th>4</th>\n",
              "      <td>0.439614</td>\n",
              "      <td>0.383886</td>\n",
              "      <td>0.494585</td>\n",
              "      <td>0.75</td>\n",
              "      <td>0.128987</td>\n",
              "      <td>0.156951</td>\n",
              "      <td>0.25</td>\n",
              "      <td>0.052039</td>\n",
              "      <td>1.0</td>\n",
              "    </tr>\n",
              "    <tr>\n",
              "      <th>...</th>\n",
              "      <td>...</td>\n",
              "      <td>...</td>\n",
              "      <td>...</td>\n",
              "      <td>...</td>\n",
              "      <td>...</td>\n",
              "      <td>...</td>\n",
              "      <td>...</td>\n",
              "      <td>...</td>\n",
              "      <td>...</td>\n",
              "    </tr>\n",
              "    <tr>\n",
              "      <th>515</th>\n",
              "      <td>0.137681</td>\n",
              "      <td>0.184834</td>\n",
              "      <td>0.314079</td>\n",
              "      <td>0.75</td>\n",
              "      <td>0.000729</td>\n",
              "      <td>0.502242</td>\n",
              "      <td>0.25</td>\n",
              "      <td>0.008439</td>\n",
              "      <td>1.0</td>\n",
              "    </tr>\n",
              "    <tr>\n",
              "      <th>516</th>\n",
              "      <td>0.463768</td>\n",
              "      <td>0.791469</td>\n",
              "      <td>0.296029</td>\n",
              "      <td>0.70</td>\n",
              "      <td>0.001174</td>\n",
              "      <td>0.183857</td>\n",
              "      <td>1.00</td>\n",
              "      <td>0.001406</td>\n",
              "      <td>1.0</td>\n",
              "    </tr>\n",
              "    <tr>\n",
              "      <th>517</th>\n",
              "      <td>0.756039</td>\n",
              "      <td>0.928910</td>\n",
              "      <td>0.819495</td>\n",
              "      <td>0.50</td>\n",
              "      <td>0.000243</td>\n",
              "      <td>0.484305</td>\n",
              "      <td>0.25</td>\n",
              "      <td>0.135021</td>\n",
              "      <td>1.0</td>\n",
              "    </tr>\n",
              "    <tr>\n",
              "      <th>518</th>\n",
              "      <td>0.729469</td>\n",
              "      <td>0.009479</td>\n",
              "      <td>0.070397</td>\n",
              "      <td>0.65</td>\n",
              "      <td>0.008014</td>\n",
              "      <td>0.152466</td>\n",
              "      <td>0.25</td>\n",
              "      <td>0.144866</td>\n",
              "      <td>1.0</td>\n",
              "    </tr>\n",
              "    <tr>\n",
              "      <th>519</th>\n",
              "      <td>0.164251</td>\n",
              "      <td>0.644550</td>\n",
              "      <td>0.070397</td>\n",
              "      <td>0.60</td>\n",
              "      <td>0.021248</td>\n",
              "      <td>0.080717</td>\n",
              "      <td>1.00</td>\n",
              "      <td>0.125176</td>\n",
              "      <td>1.0</td>\n",
              "    </tr>\n",
              "  </tbody>\n",
              "</table>\n",
              "<p>520 rows × 9 columns</p>\n",
              "</div>"
            ],
            "text/plain": [
              "     Название книги  Имя автора  Цена книги  Оценка  Кол-во оценок  \\\n",
              "0          0.881643    0.876777    0.404332    0.80       0.035778   \n",
              "1          0.623188    0.383886    0.675090    0.65       0.002833   \n",
              "2          0.166667    0.876777    0.314079    0.90       0.205642   \n",
              "3          0.495169    0.132701    0.530686    0.70       0.074591   \n",
              "4          0.439614    0.383886    0.494585    0.75       0.128987   \n",
              "..              ...         ...         ...     ...            ...   \n",
              "515        0.137681    0.184834    0.314079    0.75       0.000729   \n",
              "516        0.463768    0.791469    0.296029    0.70       0.001174   \n",
              "517        0.756039    0.928910    0.819495    0.50       0.000243   \n",
              "518        0.729469    0.009479    0.070397    0.65       0.008014   \n",
              "519        0.164251    0.644550    0.070397    0.60       0.021248   \n",
              "\n",
              "     Кол-во страниц  Жанр  Кол-во книг у автора  Тип  \n",
              "0          0.116592  0.00              0.029536  1.0  \n",
              "1          0.112108  1.00              0.052039  1.0  \n",
              "2          0.130045  0.00              0.029536  1.0  \n",
              "3          0.094170  0.25              0.334740  1.0  \n",
              "4          0.156951  0.25              0.052039  1.0  \n",
              "..              ...   ...                   ...  ...  \n",
              "515        0.502242  0.25              0.008439  1.0  \n",
              "516        0.183857  1.00              0.001406  1.0  \n",
              "517        0.484305  0.25              0.135021  1.0  \n",
              "518        0.152466  0.25              0.144866  1.0  \n",
              "519        0.080717  1.00              0.125176  1.0  \n",
              "\n",
              "[520 rows x 9 columns]"
            ]
          },
          "execution_count": 829,
          "metadata": {},
          "output_type": "execute_result"
        }
      ],
      "source": [
        "df"
      ]
    },
    {
      "cell_type": "code",
      "execution_count": null,
      "metadata": {
        "id": "BhKERubMPc0n"
      },
      "outputs": [],
      "source": [
        "df = df.drop(['Название книги', 'Имя автора'], axis = 1)"
      ]
    },
    {
      "cell_type": "code",
      "execution_count": null,
      "metadata": {
        "id": "d4n-TKN4Pc0n"
      },
      "outputs": [],
      "source": [
        "link = linkage(df, 'ward', 'euclidean')"
      ]
    },
    {
      "cell_type": "code",
      "execution_count": null,
      "metadata": {
        "id": "3eUbXHWuPc0o",
        "outputId": "7679622f-2f7d-4e7e-e597-74b926a75fe3"
      },
      "outputs": [
        {
          "data": {
            "image/png": "[encoded data removed]",
            "text/plain": [
              "<Figure size 842.4x595.44 with 1 Axes>"
            ]
          },
          "metadata": {
            "needs_background": "light"
          },
          "output_type": "display_data"
        }
      ],
      "source": [
        "matplotlib.rcParams['lines.linewidth'] = 2\n",
        "\n",
        "fig, ax = plt.subplots()\n",
        "fig.set_size_inches(11.7, 8.27)\n",
        "\n",
        "dn = dendrogram(link,\n",
        "                labels=df.index.tolist(),\n",
        "                truncate_mode='lastp',\n",
        "                orientation = \"right\",\n",
        "                )\n",
        "ax.tick_params(labelsize=13)\n",
        "plt.title('Hierarchical Clustering Dendrogram (truncate)')\n",
        "plt.ylabel('index')\n",
        "plt.xlabel('distance (Ward)')\n",
        "plt.show()"
      ]
    },
    {
      "cell_type": "code",
      "execution_count": null,
      "metadata": {
        "id": "Jd5RBegfPc0o",
        "outputId": "290e2628-1b85-4442-eff0-90245abbcddc"
      },
      "outputs": [
        {
          "data": {
            "image/png": "[encoded data removed]",
            "text/plain": [
              "<Figure size 842.4x595.44 with 1 Axes>"
            ]
          },
          "metadata": {
            "needs_background": "light"
          },
          "output_type": "display_data"
        }
      ],
      "source": [
        "dist = link[-50:, 2]\n",
        "dist_rev = dist[::-1]\n",
        "idxs = range(1, len(dist) + 1)\n",
        "\n",
        "fig, ax = plt.subplots()\n",
        "fig.set_size_inches(11.7, 8.27)\n",
        "plt.plot(idxs, dist_rev, marker='o')\n",
        "plt.title('Distance between merged clusters')\n",
        "plt.xlabel('Step')\n",
        "plt.ylabel('Distance')\n",
        "plt.axhline(3.2, c='g', linestyle='dashed')\n",
        "\n",
        "plt.show()"
      ]
    },
    {
      "cell_type": "code",
      "execution_count": null,
      "metadata": {
        "id": "8eDierDbPc0o"
      },
      "outputs": [],
      "source": [
        "df['cluster'] = fcluster(link, 4, criterion='maxclust')"
      ]
    },
    {
      "cell_type": "code",
      "execution_count": null,
      "metadata": {
        "id": "5xxIycCyPc0o",
        "outputId": "12569c02-7c07-4e90-9914-9bacad57d468"
      },
      "outputs": [
        {
          "data": {
            "text/html": [
              "<div>\n",
              "<style scoped>\n",
              "    .dataframe tbody tr th:only-of-type {\n",
              "        vertical-align: middle;\n",
              "    }\n",
              "\n",
              "    .dataframe tbody tr th {\n",
              "        vertical-align: top;\n",
              "    }\n",
              "\n",
              "    .dataframe thead th {\n",
              "        text-align: right;\n",
              "    }\n",
              "</style>\n",
              "<table border=\"1\" class=\"dataframe\">\n",
              "  <thead>\n",
              "    <tr style=\"text-align: right;\">\n",
              "      <th></th>\n",
              "      <th>Цена книги</th>\n",
              "      <th>Оценка</th>\n",
              "      <th>Кол-во оценок</th>\n",
              "      <th>Кол-во страниц</th>\n",
              "      <th>Жанр</th>\n",
              "      <th>Кол-во книг у автора</th>\n",
              "      <th>Тип</th>\n",
              "    </tr>\n",
              "    <tr>\n",
              "      <th>cluster</th>\n",
              "      <th></th>\n",
              "      <th></th>\n",
              "      <th></th>\n",
              "      <th></th>\n",
              "      <th></th>\n",
              "      <th></th>\n",
              "      <th></th>\n",
              "    </tr>\n",
              "  </thead>\n",
              "  <tbody>\n",
              "    <tr>\n",
              "      <th>1</th>\n",
              "      <td>0.436007</td>\n",
              "      <td>0.729762</td>\n",
              "      <td>0.028074</td>\n",
              "      <td>0.089515</td>\n",
              "      <td>1.000000</td>\n",
              "      <td>0.154343</td>\n",
              "      <td>0.0</td>\n",
              "    </tr>\n",
              "    <tr>\n",
              "      <th>2</th>\n",
              "      <td>0.382958</td>\n",
              "      <td>0.781746</td>\n",
              "      <td>0.021180</td>\n",
              "      <td>0.118919</td>\n",
              "      <td>0.134921</td>\n",
              "      <td>0.106401</td>\n",
              "      <td>0.0</td>\n",
              "    </tr>\n",
              "    <tr>\n",
              "      <th>3</th>\n",
              "      <td>0.281542</td>\n",
              "      <td>0.708654</td>\n",
              "      <td>0.051110</td>\n",
              "      <td>0.151023</td>\n",
              "      <td>0.998397</td>\n",
              "      <td>0.118729</td>\n",
              "      <td>1.0</td>\n",
              "    </tr>\n",
              "    <tr>\n",
              "      <th>4</th>\n",
              "      <td>0.328959</td>\n",
              "      <td>0.719884</td>\n",
              "      <td>0.031110</td>\n",
              "      <td>0.184584</td>\n",
              "      <td>0.145753</td>\n",
              "      <td>0.059490</td>\n",
              "      <td>1.0</td>\n",
              "    </tr>\n",
              "  </tbody>\n",
              "</table>\n",
              "</div>"
            ],
            "text/plain": [
              "         Цена книги    Оценка  Кол-во оценок  Кол-во страниц      Жанр  \\\n",
              "cluster                                                                  \n",
              "1          0.436007  0.729762       0.028074        0.089515  1.000000   \n",
              "2          0.382958  0.781746       0.021180        0.118919  0.134921   \n",
              "3          0.281542  0.708654       0.051110        0.151023  0.998397   \n",
              "4          0.328959  0.719884       0.031110        0.184584  0.145753   \n",
              "\n",
              "         Кол-во книг у автора  Тип  \n",
              "cluster                             \n",
              "1                    0.154343  0.0  \n",
              "2                    0.106401  0.0  \n",
              "3                    0.118729  1.0  \n",
              "4                    0.059490  1.0  "
            ]
          },
          "execution_count": 835,
          "metadata": {},
          "output_type": "execute_result"
        }
      ],
      "source": [
        "df.groupby('cluster').mean()"
      ]
    },
    {
      "cell_type": "code",
      "execution_count": null,
      "metadata": {
        "id": "A7tkHjkwPc0p",
        "outputId": "d86d3af9-61fe-47c0-fa91-2dd6065ba93f"
      },
      "outputs": [
        {
          "data": {
            "text/plain": [
              "cluster\n",
              "1     42\n",
              "2     63\n",
              "3    156\n",
              "4    259\n",
              "dtype: int64"
            ]
          },
          "execution_count": 836,
          "metadata": {},
          "output_type": "execute_result"
        }
      ],
      "source": [
        "df.groupby('cluster').size()"
      ]
    },
    {
      "cell_type": "code",
      "execution_count": null,
      "metadata": {
        "id": "af4o8h8IPc0p",
        "outputId": "985a36bb-fabd-46b6-90d7-3d749cace472"
      },
      "outputs": [
        {
          "data": {
            "image/png": "[encoded data removed]",
            "text/plain": [
              "<Figure size 1058.4x667.44 with 4 Axes>"
            ]
          },
          "metadata": {
            "needs_background": "light"
          },
          "output_type": "display_data"
        }
      ],
      "source": [
        "fig, axs = plt.subplots(nrows=2, ncols=2, sharex=True)\n",
        "fig.set_size_inches(14.7, 9.27)\n",
        "plt.subplots_adjust( wspace=0.625)\n",
        "k = 0\n",
        "c = ['grey', 'violet', 'salmon', 'skyblue', 'orange']\n",
        "for i in range(2):\n",
        "    for j in range(2):\n",
        "        ax = axs[j, i]\n",
        "        k += 1\n",
        "        df[df.cluster == k].groupby('cluster').mean().T.plot.barh(ax = ax, color = c[k-1])\n",
        "        ax.tick_params(labelsize = 11)\n",
        "\n"
      ]
    },
    {
      "cell_type": "code",
      "execution_count": null,
      "metadata": {
        "id": "W0MBQjqmPc0p",
        "outputId": "e88b17f9-9545-4540-dbd6-ff8de8096108"
      },
      "outputs": [
        {
          "data": {
            "text/html": [
              "<div>\n",
              "<style scoped>\n",
              "    .dataframe tbody tr th:only-of-type {\n",
              "        vertical-align: middle;\n",
              "    }\n",
              "\n",
              "    .dataframe tbody tr th {\n",
              "        vertical-align: top;\n",
              "    }\n",
              "\n",
              "    .dataframe thead th {\n",
              "        text-align: right;\n",
              "    }\n",
              "</style>\n",
              "<table border=\"1\" class=\"dataframe\">\n",
              "  <thead>\n",
              "    <tr style=\"text-align: right;\">\n",
              "      <th></th>\n",
              "      <th>Название книги</th>\n",
              "      <th>Имя автора</th>\n",
              "      <th>Цена книги</th>\n",
              "      <th>Оценка</th>\n",
              "      <th>Кол-во оценок</th>\n",
              "      <th>Кол-во страниц</th>\n",
              "      <th>Жанр</th>\n",
              "      <th>Кол-во книг у автора</th>\n",
              "      <th>Тип</th>\n",
              "    </tr>\n",
              "  </thead>\n",
              "  <tbody>\n",
              "    <tr>\n",
              "      <th>0</th>\n",
              "      <td>365</td>\n",
              "      <td>185</td>\n",
              "      <td>349</td>\n",
              "      <td>4.6</td>\n",
              "      <td>885</td>\n",
              "      <td>300</td>\n",
              "      <td>0</td>\n",
              "      <td>22</td>\n",
              "      <td>1</td>\n",
              "    </tr>\n",
              "    <tr>\n",
              "      <th>1</th>\n",
              "      <td>258</td>\n",
              "      <td>81</td>\n",
              "      <td>499</td>\n",
              "      <td>4.3</td>\n",
              "      <td>71</td>\n",
              "      <td>290</td>\n",
              "      <td>4</td>\n",
              "      <td>38</td>\n",
              "      <td>1</td>\n",
              "    </tr>\n",
              "    <tr>\n",
              "      <th>2</th>\n",
              "      <td>69</td>\n",
              "      <td>185</td>\n",
              "      <td>299</td>\n",
              "      <td>4.8</td>\n",
              "      <td>5082</td>\n",
              "      <td>330</td>\n",
              "      <td>0</td>\n",
              "      <td>22</td>\n",
              "      <td>1</td>\n",
              "    </tr>\n",
              "    <tr>\n",
              "      <th>3</th>\n",
              "      <td>205</td>\n",
              "      <td>28</td>\n",
              "      <td>419</td>\n",
              "      <td>4.4</td>\n",
              "      <td>1844</td>\n",
              "      <td>250</td>\n",
              "      <td>1</td>\n",
              "      <td>239</td>\n",
              "      <td>1</td>\n",
              "    </tr>\n",
              "    <tr>\n",
              "      <th>4</th>\n",
              "      <td>182</td>\n",
              "      <td>81</td>\n",
              "      <td>399</td>\n",
              "      <td>4.5</td>\n",
              "      <td>3188</td>\n",
              "      <td>390</td>\n",
              "      <td>1</td>\n",
              "      <td>38</td>\n",
              "      <td>1</td>\n",
              "    </tr>\n",
              "    <tr>\n",
              "      <th>...</th>\n",
              "      <td>...</td>\n",
              "      <td>...</td>\n",
              "      <td>...</td>\n",
              "      <td>...</td>\n",
              "      <td>...</td>\n",
              "      <td>...</td>\n",
              "      <td>...</td>\n",
              "      <td>...</td>\n",
              "      <td>...</td>\n",
              "    </tr>\n",
              "    <tr>\n",
              "      <th>515</th>\n",
              "      <td>57</td>\n",
              "      <td>39</td>\n",
              "      <td>299</td>\n",
              "      <td>4.5</td>\n",
              "      <td>19</td>\n",
              "      <td>1160</td>\n",
              "      <td>1</td>\n",
              "      <td>7</td>\n",
              "      <td>1</td>\n",
              "    </tr>\n",
              "    <tr>\n",
              "      <th>516</th>\n",
              "      <td>192</td>\n",
              "      <td>167</td>\n",
              "      <td>289</td>\n",
              "      <td>4.4</td>\n",
              "      <td>30</td>\n",
              "      <td>450</td>\n",
              "      <td>4</td>\n",
              "      <td>2</td>\n",
              "      <td>1</td>\n",
              "    </tr>\n",
              "    <tr>\n",
              "      <th>517</th>\n",
              "      <td>313</td>\n",
              "      <td>196</td>\n",
              "      <td>579</td>\n",
              "      <td>4.0</td>\n",
              "      <td>7</td>\n",
              "      <td>1120</td>\n",
              "      <td>1</td>\n",
              "      <td>97</td>\n",
              "      <td>1</td>\n",
              "    </tr>\n",
              "    <tr>\n",
              "      <th>518</th>\n",
              "      <td>302</td>\n",
              "      <td>2</td>\n",
              "      <td>164</td>\n",
              "      <td>4.3</td>\n",
              "      <td>199</td>\n",
              "      <td>380</td>\n",
              "      <td>1</td>\n",
              "      <td>104</td>\n",
              "      <td>1</td>\n",
              "    </tr>\n",
              "    <tr>\n",
              "      <th>519</th>\n",
              "      <td>68</td>\n",
              "      <td>136</td>\n",
              "      <td>164</td>\n",
              "      <td>4.2</td>\n",
              "      <td>526</td>\n",
              "      <td>220</td>\n",
              "      <td>4</td>\n",
              "      <td>90</td>\n",
              "      <td>1</td>\n",
              "    </tr>\n",
              "  </tbody>\n",
              "</table>\n",
              "<p>520 rows × 9 columns</p>\n",
              "</div>"
            ],
            "text/plain": [
              "     Название книги  Имя автора  Цена книги  Оценка  Кол-во оценок  \\\n",
              "0               365         185         349     4.6            885   \n",
              "1               258          81         499     4.3             71   \n",
              "2                69         185         299     4.8           5082   \n",
              "3               205          28         419     4.4           1844   \n",
              "4               182          81         399     4.5           3188   \n",
              "..              ...         ...         ...     ...            ...   \n",
              "515              57          39         299     4.5             19   \n",
              "516             192         167         289     4.4             30   \n",
              "517             313         196         579     4.0              7   \n",
              "518             302           2         164     4.3            199   \n",
              "519              68         136         164     4.2            526   \n",
              "\n",
              "     Кол-во страниц  Жанр  Кол-во книг у автора  Тип  \n",
              "0               300     0                    22    1  \n",
              "1               290     4                    38    1  \n",
              "2               330     0                    22    1  \n",
              "3               250     1                   239    1  \n",
              "4               390     1                    38    1  \n",
              "..              ...   ...                   ...  ...  \n",
              "515            1160     1                     7    1  \n",
              "516             450     4                     2    1  \n",
              "517            1120     1                    97    1  \n",
              "518             380     1                   104    1  \n",
              "519             220     4                    90    1  \n",
              "\n",
              "[520 rows x 9 columns]"
            ]
          },
          "execution_count": 838,
          "metadata": {},
          "output_type": "execute_result"
        }
      ],
      "source": [
        "df1"
      ]
    },
    {
      "cell_type": "markdown",
      "metadata": {
        "id": "5JPzcavFPc0p"
      },
      "source": [
        "---"
      ]
    },
    {
      "cell_type": "code",
      "execution_count": null,
      "metadata": {
        "id": "BEMlULVHPc0s"
      },
      "outputs": [],
      "source": []
    },
    {
      "cell_type": "code",
      "execution_count": null,
      "metadata": {
        "id": "3zH9tR_sPc0s"
      },
      "outputs": [],
      "source": [
        "df = df_\n",
        "df['Название книги'] = [len(i) for i in df['Название книги']]\n",
        "df = df.drop('Ссылка', axis = 1)"
      ]
    },
    {
      "cell_type": "code",
      "execution_count": null,
      "metadata": {
        "id": "bp_K81ULPc0s"
      },
      "outputs": [],
      "source": [
        "\n",
        "df['Цена книги'] = df['Цена книги'].astype('int64')\n",
        "df['Кол-во страниц'] = df['Кол-во страниц'].astype('int64')\n",
        "df['Кол-во оценок'] = df['Кол-во оценок'].astype('int64')\n",
        "df['Оценка'] = df['Оценка'].astype('float')"
      ]
    },
    {
      "cell_type": "code",
      "execution_count": null,
      "metadata": {
        "id": "xIPySQlNPc0s",
        "outputId": "ef2a27f5-96d8-47a6-f837-4606a8fa84e2"
      },
      "outputs": [
        {
          "name": "stdout",
          "output_type": "stream",
          "text": [
            "<class 'pandas.core.frame.DataFrame'>\n",
            "RangeIndex: 520 entries, 0 to 519\n",
            "Data columns (total 9 columns):\n",
            " #   Column                Non-Null Count  Dtype  \n",
            "---  ------                --------------  -----  \n",
            " 0   Название книги        520 non-null    int64  \n",
            " 1   Имя автора            520 non-null    object \n",
            " 2   Цена книги            520 non-null    int64  \n",
            " 3   Оценка                520 non-null    float64\n",
            " 4   Кол-во оценок         520 non-null    int64  \n",
            " 5   Кол-во страниц        520 non-null    int64  \n",
            " 6   Жанр                  520 non-null    object \n",
            " 7   Кол-во книг у автора  520 non-null    int64  \n",
            " 8   Тип                   520 non-null    object \n",
            "dtypes: float64(1), int64(5), object(3)\n",
            "memory usage: 36.7+ KB\n"
          ]
        }
      ],
      "source": [
        "df.info()"
      ]
    },
    {
      "cell_type": "code",
      "execution_count": null,
      "metadata": {
        "id": "auabvFx5Pc0s",
        "outputId": "77d37a74-1aad-4a73-a51e-353ac4b933b0"
      },
      "outputs": [
        {
          "data": {
            "text/html": [
              "<div>\n",
              "<style scoped>\n",
              "    .dataframe tbody tr th:only-of-type {\n",
              "        vertical-align: middle;\n",
              "    }\n",
              "\n",
              "    .dataframe tbody tr th {\n",
              "        vertical-align: top;\n",
              "    }\n",
              "\n",
              "    .dataframe thead th {\n",
              "        text-align: right;\n",
              "    }\n",
              "</style>\n",
              "<table border=\"1\" class=\"dataframe\">\n",
              "  <thead>\n",
              "    <tr style=\"text-align: right;\">\n",
              "      <th></th>\n",
              "      <th>Название книги</th>\n",
              "      <th>Имя автора</th>\n",
              "      <th>Цена книги</th>\n",
              "      <th>Оценка</th>\n",
              "      <th>Кол-во оценок</th>\n",
              "      <th>Кол-во страниц</th>\n",
              "      <th>Жанр</th>\n",
              "      <th>Кол-во книг у автора</th>\n",
              "      <th>Тип</th>\n",
              "    </tr>\n",
              "  </thead>\n",
              "  <tbody>\n",
              "    <tr>\n",
              "      <th>0</th>\n",
              "      <td>14</td>\n",
              "      <td>Фредрик Бакман</td>\n",
              "      <td>349</td>\n",
              "      <td>4.6</td>\n",
              "      <td>885</td>\n",
              "      <td>300</td>\n",
              "      <td>современная зарубежная литература</td>\n",
              "      <td>22</td>\n",
              "      <td>Текст</td>\n",
              "    </tr>\n",
              "    <tr>\n",
              "      <th>1</th>\n",
              "      <td>18</td>\n",
              "      <td>Евгений Водолазкин</td>\n",
              "      <td>499</td>\n",
              "      <td>4.3</td>\n",
              "      <td>71</td>\n",
              "      <td>290</td>\n",
              "      <td>современная русская литература</td>\n",
              "      <td>38</td>\n",
              "      <td>Текст</td>\n",
              "    </tr>\n",
              "    <tr>\n",
              "      <th>2</th>\n",
              "      <td>16</td>\n",
              "      <td>Фредрик Бакман</td>\n",
              "      <td>299</td>\n",
              "      <td>4.8</td>\n",
              "      <td>5082</td>\n",
              "      <td>330</td>\n",
              "      <td>современная зарубежная литература</td>\n",
              "      <td>22</td>\n",
              "      <td>Текст</td>\n",
              "    </tr>\n",
              "    <tr>\n",
              "      <th>3</th>\n",
              "      <td>11</td>\n",
              "      <td>Борис Акунин</td>\n",
              "      <td>419</td>\n",
              "      <td>4.4</td>\n",
              "      <td>1844</td>\n",
              "      <td>250</td>\n",
              "      <td>историческая литература</td>\n",
              "      <td>239</td>\n",
              "      <td>Текст</td>\n",
              "    </tr>\n",
              "    <tr>\n",
              "      <th>4</th>\n",
              "      <td>4</td>\n",
              "      <td>Евгений Водолазкин</td>\n",
              "      <td>399</td>\n",
              "      <td>4.5</td>\n",
              "      <td>3188</td>\n",
              "      <td>390</td>\n",
              "      <td>историческая литература</td>\n",
              "      <td>38</td>\n",
              "      <td>Текст</td>\n",
              "    </tr>\n",
              "    <tr>\n",
              "      <th>...</th>\n",
              "      <td>...</td>\n",
              "      <td>...</td>\n",
              "      <td>...</td>\n",
              "      <td>...</td>\n",
              "      <td>...</td>\n",
              "      <td>...</td>\n",
              "      <td>...</td>\n",
              "      <td>...</td>\n",
              "      <td>...</td>\n",
              "    </tr>\n",
              "    <tr>\n",
              "      <th>515</th>\n",
              "      <td>15</td>\n",
              "      <td>Виктор Ремизов</td>\n",
              "      <td>299</td>\n",
              "      <td>4.5</td>\n",
              "      <td>19</td>\n",
              "      <td>1160</td>\n",
              "      <td>историческая литература</td>\n",
              "      <td>7</td>\n",
              "      <td>Текст</td>\n",
              "    </tr>\n",
              "    <tr>\n",
              "      <th>516</th>\n",
              "      <td>12</td>\n",
              "      <td>Светлана Сачкова</td>\n",
              "      <td>289</td>\n",
              "      <td>4.4</td>\n",
              "      <td>30</td>\n",
              "      <td>450</td>\n",
              "      <td>современная русская литература</td>\n",
              "      <td>2</td>\n",
              "      <td>Текст</td>\n",
              "    </tr>\n",
              "    <tr>\n",
              "      <th>517</th>\n",
              "      <td>12</td>\n",
              "      <td>Эдвард Радзинский</td>\n",
              "      <td>579</td>\n",
              "      <td>4.0</td>\n",
              "      <td>7</td>\n",
              "      <td>1120</td>\n",
              "      <td>биографии и мемуары</td>\n",
              "      <td>97</td>\n",
              "      <td>Текст</td>\n",
              "    </tr>\n",
              "    <tr>\n",
              "      <th>518</th>\n",
              "      <td>24</td>\n",
              "      <td>Александр Михайловский</td>\n",
              "      <td>164</td>\n",
              "      <td>4.3</td>\n",
              "      <td>199</td>\n",
              "      <td>380</td>\n",
              "      <td>исторические приключения</td>\n",
              "      <td>104</td>\n",
              "      <td>Текст</td>\n",
              "    </tr>\n",
              "    <tr>\n",
              "      <th>519</th>\n",
              "      <td>20</td>\n",
              "      <td>Маша Трауб</td>\n",
              "      <td>164</td>\n",
              "      <td>4.2</td>\n",
              "      <td>526</td>\n",
              "      <td>220</td>\n",
              "      <td>современная русская литература</td>\n",
              "      <td>90</td>\n",
              "      <td>Текст</td>\n",
              "    </tr>\n",
              "  </tbody>\n",
              "</table>\n",
              "<p>520 rows × 9 columns</p>\n",
              "</div>"
            ],
            "text/plain": [
              "     Название книги              Имя автора  Цена книги  Оценка  \\\n",
              "0                14          Фредрик Бакман         349     4.6   \n",
              "1                18      Евгений Водолазкин         499     4.3   \n",
              "2                16          Фредрик Бакман         299     4.8   \n",
              "3                11            Борис Акунин         419     4.4   \n",
              "4                 4      Евгений Водолазкин         399     4.5   \n",
              "..              ...                     ...         ...     ...   \n",
              "515              15          Виктор Ремизов         299     4.5   \n",
              "516              12        Светлана Сачкова         289     4.4   \n",
              "517              12       Эдвард Радзинский         579     4.0   \n",
              "518              24  Александр Михайловский         164     4.3   \n",
              "519              20              Маша Трауб         164     4.2   \n",
              "\n",
              "     Кол-во оценок  Кол-во страниц                               Жанр  \\\n",
              "0              885             300  современная зарубежная литература   \n",
              "1               71             290     современная русская литература   \n",
              "2             5082             330  современная зарубежная литература   \n",
              "3             1844             250            историческая литература   \n",
              "4             3188             390            историческая литература   \n",
              "..             ...             ...                                ...   \n",
              "515             19            1160            историческая литература   \n",
              "516             30             450     современная русская литература   \n",
              "517              7            1120                биографии и мемуары   \n",
              "518            199             380           исторические приключения   \n",
              "519            526             220     современная русская литература   \n",
              "\n",
              "     Кол-во книг у автора    Тип  \n",
              "0                      22  Текст  \n",
              "1                      38  Текст  \n",
              "2                      22  Текст  \n",
              "3                     239  Текст  \n",
              "4                      38  Текст  \n",
              "..                    ...    ...  \n",
              "515                     7  Текст  \n",
              "516                     2  Текст  \n",
              "517                    97  Текст  \n",
              "518                   104  Текст  \n",
              "519                    90  Текст  \n",
              "\n",
              "[520 rows x 9 columns]"
            ]
          },
          "execution_count": 842,
          "metadata": {},
          "output_type": "execute_result"
        }
      ],
      "source": [
        "df"
      ]
    },
    {
      "cell_type": "code",
      "execution_count": null,
      "metadata": {
        "id": "eLyF6QNPPc0s"
      },
      "outputs": [],
      "source": [
        "X = df.drop('Цена книги', axis=1)\n",
        "y = df['Цена книги'].values"
      ]
    },
    {
      "cell_type": "code",
      "execution_count": null,
      "metadata": {
        "id": "WH0Q_bH4Pc0t",
        "outputId": "2ec6f5f4-abe4-432c-9952-c5f509e9986e"
      },
      "outputs": [
        {
          "name": "stderr",
          "output_type": "stream",
          "text": [
            "/opt/anaconda3/lib/python3.7/site-packages/category_encoders/utils.py:21: FutureWarning: is_categorical is deprecated and will be removed in a future version.  Use is_categorical_dtype instead\n",
            "  elif pd.api.types.is_categorical(cols):\n"
          ]
        }
      ],
      "source": [
        "import category_encoders as ce\n",
        "encoder = ce.TargetEncoder(cols=['Имя автора', 'Жанр', 'Тип'])\n",
        "encoder.fit(X, y)\n",
        "X_num = encoder.transform(X)"
      ]
    },
    {
      "cell_type": "code",
      "execution_count": null,
      "metadata": {
        "id": "3BL5PXY-Pc0t",
        "outputId": "bc1fd8b3-88ca-4400-b187-a0f39456f829"
      },
      "outputs": [
        {
          "name": "stdout",
          "output_type": "stream",
          "text": [
            "(260, 8) (260, 8)\n"
          ]
        }
      ],
      "source": [
        "from sklearn.model_selection import train_test_split\n",
        "X_train, X_test, y_train, y_test = train_test_split(X_num, y, test_size=0.5,\n",
        "                                                          random_state=17)\n",
        "print(X_train.shape, X_test.shape)"
      ]
    },
    {
      "cell_type": "code",
      "execution_count": null,
      "metadata": {
        "id": "NSppjf1MPc0t"
      },
      "outputs": [],
      "source": []
    },
    {
      "cell_type": "markdown",
      "metadata": {
        "id": "VJ6_7F7yPc0t"
      },
      "source": [
        "from sklearn.preprocessing import StandardScaler\n",
        "scaler = MinMaxScaler()\n",
        "X_train = scaler.fit_transform(X_train)\n",
        "X_test = scaler.fit_transform(X_test)"
      ]
    },
    {
      "cell_type": "code",
      "execution_count": null,
      "metadata": {
        "id": "oF5cLpKPPc0t"
      },
      "outputs": [],
      "source": [
        "from sklearn.linear_model import *"
      ]
    },
    {
      "cell_type": "code",
      "execution_count": null,
      "metadata": {
        "id": "vPCRoFgiPc0t",
        "outputId": "d49cb5a1-9869-45f6-f5cb-5b06b3cc2a5a"
      },
      "outputs": [
        {
          "data": {
            "text/html": [
              "<table class=\"simpletable\">\n",
              "<caption>OLS Regression Results</caption>\n",
              "<tr>\n",
              "  <th>Dep. Variable:</th>            <td>y</td>        <th>  R-squared (uncentered):</th>      <td>   0.953</td> \n",
              "</tr>\n",
              "<tr>\n",
              "  <th>Model:</th>                   <td>OLS</td>       <th>  Adj. R-squared (uncentered):</th> <td>   0.951</td> \n",
              "</tr>\n",
              "<tr>\n",
              "  <th>Method:</th>             <td>Least Squares</td>  <th>  F-statistic:       </th>          <td>   635.3</td> \n",
              "</tr>\n",
              "<tr>\n",
              "  <th>Date:</th>             <td>Sat, 16 Jan 2021</td> <th>  Prob (F-statistic):</th>          <td>2.80e-162</td>\n",
              "</tr>\n",
              "<tr>\n",
              "  <th>Time:</th>                 <td>05:28:00</td>     <th>  Log-Likelihood:    </th>          <td> -1473.4</td> \n",
              "</tr>\n",
              "<tr>\n",
              "  <th>No. Observations:</th>      <td>   260</td>      <th>  AIC:               </th>          <td>   2963.</td> \n",
              "</tr>\n",
              "<tr>\n",
              "  <th>Df Residuals:</th>          <td>   252</td>      <th>  BIC:               </th>          <td>   2991.</td> \n",
              "</tr>\n",
              "<tr>\n",
              "  <th>Df Model:</th>              <td>     8</td>      <th>                     </th>              <td> </td>    \n",
              "</tr>\n",
              "<tr>\n",
              "  <th>Covariance Type:</th>      <td>nonrobust</td>    <th>                     </th>              <td> </td>    \n",
              "</tr>\n",
              "</table>\n",
              "<table class=\"simpletable\">\n",
              "<tr>\n",
              "            <td></td>              <th>coef</th>     <th>std err</th>      <th>t</th>      <th>P>|t|</th>  <th>[0.025</th>    <th>0.975]</th>  \n",
              "</tr>\n",
              "<tr>\n",
              "  <th>Название книги</th>       <td>    0.2351</td> <td>    0.262</td> <td>    0.897</td> <td> 0.371</td> <td>   -0.281</td> <td>    0.751</td>\n",
              "</tr>\n",
              "<tr>\n",
              "  <th>Имя автора</th>           <td>    0.9292</td> <td>    0.104</td> <td>    8.969</td> <td> 0.000</td> <td>    0.725</td> <td>    1.133</td>\n",
              "</tr>\n",
              "<tr>\n",
              "  <th>Оценка</th>               <td>  -51.1842</td> <td>   13.083</td> <td>   -3.912</td> <td> 0.000</td> <td>  -76.951</td> <td>  -25.417</td>\n",
              "</tr>\n",
              "<tr>\n",
              "  <th>Кол-во оценок</th>        <td>   -0.0045</td> <td>    0.002</td> <td>   -1.984</td> <td> 0.048</td> <td>   -0.009</td> <td> -3.4e-05</td>\n",
              "</tr>\n",
              "<tr>\n",
              "  <th>Кол-во страниц</th>       <td>    0.0450</td> <td>    0.017</td> <td>    2.575</td> <td> 0.011</td> <td>    0.011</td> <td>    0.079</td>\n",
              "</tr>\n",
              "<tr>\n",
              "  <th>Жанр</th>                 <td>    0.3298</td> <td>    0.168</td> <td>    1.965</td> <td> 0.051</td> <td>   -0.001</td> <td>    0.660</td>\n",
              "</tr>\n",
              "<tr>\n",
              "  <th>Кол-во книг у автора</th> <td>    0.0517</td> <td>    0.046</td> <td>    1.118</td> <td> 0.265</td> <td>   -0.039</td> <td>    0.143</td>\n",
              "</tr>\n",
              "<tr>\n",
              "  <th>Тип</th>                  <td>    0.3957</td> <td>    0.193</td> <td>    2.050</td> <td> 0.041</td> <td>    0.015</td> <td>    0.776</td>\n",
              "</tr>\n",
              "</table>\n",
              "<table class=\"simpletable\">\n",
              "<tr>\n",
              "  <th>Omnibus:</th>       <td>50.726</td> <th>  Durbin-Watson:     </th> <td>   1.918</td>\n",
              "</tr>\n",
              "<tr>\n",
              "  <th>Prob(Omnibus):</th> <td> 0.000</td> <th>  Jarque-Bera (JB):  </th> <td> 124.133</td>\n",
              "</tr>\n",
              "<tr>\n",
              "  <th>Skew:</th>          <td> 0.904</td> <th>  Prob(JB):          </th> <td>1.11e-27</td>\n",
              "</tr>\n",
              "<tr>\n",
              "  <th>Kurtosis:</th>      <td> 5.862</td> <th>  Cond. No.          </th> <td>6.49e+03</td>\n",
              "</tr>\n",
              "</table><br/><br/>Notes:<br/>[1] R² is computed without centering (uncentered) since the model does not contain a constant.<br/>[2] Standard Errors assume that the covariance matrix of the errors is correctly specified.<br/>[3] The condition number is large, 6.49e+03. This might indicate that there are<br/>strong multicollinearity or other numerical problems."
            ],
            "text/plain": [
              "<class 'statsmodels.iolib.summary.Summary'>\n",
              "\"\"\"\n",
              "                                 OLS Regression Results                                \n",
              "=======================================================================================\n",
              "Dep. Variable:                      y   R-squared (uncentered):                   0.953\n",
              "Model:                            OLS   Adj. R-squared (uncentered):              0.951\n",
              "Method:                 Least Squares   F-statistic:                              635.3\n",
              "Date:                Sat, 16 Jan 2021   Prob (F-statistic):                   2.80e-162\n",
              "Time:                        05:28:00   Log-Likelihood:                         -1473.4\n",
              "No. Observations:                 260   AIC:                                      2963.\n",
              "Df Residuals:                     252   BIC:                                      2991.\n",
              "Df Model:                           8                                                  \n",
              "Covariance Type:            nonrobust                                                  \n",
              "========================================================================================\n",
              "                           coef    std err          t      P>|t|      [0.025      0.975]\n",
              "----------------------------------------------------------------------------------------\n",
              "Название книги           0.2351      0.262      0.897      0.371      -0.281       0.751\n",
              "Имя автора               0.9292      0.104      8.969      0.000       0.725       1.133\n",
              "Оценка                 -51.1842     13.083     -3.912      0.000     -76.951     -25.417\n",
              "Кол-во оценок           -0.0045      0.002     -1.984      0.048      -0.009    -3.4e-05\n",
              "Кол-во страниц           0.0450      0.017      2.575      0.011       0.011       0.079\n",
              "Жанр                     0.3298      0.168      1.965      0.051      -0.001       0.660\n",
              "Кол-во книг у автора     0.0517      0.046      1.118      0.265      -0.039       0.143\n",
              "Тип                      0.3957      0.193      2.050      0.041       0.015       0.776\n",
              "==============================================================================\n",
              "Omnibus:                       50.726   Durbin-Watson:                   1.918\n",
              "Prob(Omnibus):                  0.000   Jarque-Bera (JB):              124.133\n",
              "Skew:                           0.904   Prob(JB):                     1.11e-27\n",
              "Kurtosis:                       5.862   Cond. No.                     6.49e+03\n",
              "==============================================================================\n",
              "\n",
              "Notes:\n",
              "[1] R² is computed without centering (uncentered) since the model does not contain a constant.\n",
              "[2] Standard Errors assume that the covariance matrix of the errors is correctly specified.\n",
              "[3] The condition number is large, 6.49e+03. This might indicate that there are\n",
              "strong multicollinearity or other numerical problems.\n",
              "\"\"\""
            ]
          },
          "execution_count": 847,
          "metadata": {},
          "output_type": "execute_result"
        }
      ],
      "source": [
        "import statsmodels.api as sm\n",
        "model = sm.OLS(y_train, X_train).fit()\n",
        "model.summary()"
      ]
    },
    {
      "cell_type": "code",
      "execution_count": null,
      "metadata": {
        "id": "w1714U34Pc0t"
      },
      "outputs": [],
      "source": []
    },
    {
      "cell_type": "code",
      "execution_count": null,
      "metadata": {
        "id": "7L3IhfTBPc0t"
      },
      "outputs": [],
      "source": [
        "y_pred = model.predict(X_num)"
      ]
    },
    {
      "cell_type": "code",
      "execution_count": null,
      "metadata": {
        "id": "1Bnft-8MPc0t",
        "outputId": "0ec01370-b9cd-4429-ac2b-caea37985e08"
      },
      "outputs": [
        {
          "data": {
            "text/plain": [
              "(0.0, 700.0)"
            ]
          },
          "execution_count": 849,
          "metadata": {},
          "output_type": "execute_result"
        },
        {
          "data": {
            "image/png": "[encoded data removed]",
            "text/plain": [
              "<Figure size 432x288 with 1 Axes>"
            ]
          },
          "metadata": {
            "needs_background": "light"
          },
          "output_type": "display_data"
        }
      ],
      "source": [
        "plt.scatter(df['Цена книги'], y_pred)\n",
        "plt.plot(list(range(700)), 'r')\n",
        "plt.ylim([0, 700])"
      ]
    },
    {
      "cell_type": "code",
      "execution_count": null,
      "metadata": {
        "id": "Quo7s78fPc0t"
      },
      "outputs": [],
      "source": [
        "from sklearn.tree import DecisionTreeRegressor\n",
        "from sklearn.ensemble import RandomForestRegressor\n",
        "from sklearn.neighbors import KNeighborsRegressor\n",
        "from sklearn.model_selection import (train_test_split, GridSearchCV)\n",
        "from sklearn.metrics import r2_score\n",
        "from sklearn.pipeline import Pipeline\n",
        "from sklearn.linear_model import Lasso, LinearRegression, Ridge"
      ]
    },
    {
      "cell_type": "code",
      "execution_count": null,
      "metadata": {
        "id": "p2Kkfb2rPc0t",
        "outputId": "bd90206b-7f62-4603-bd5c-d1ff0f6b5719"
      },
      "outputs": [
        {
          "name": "stdout",
          "output_type": "stream",
          "text": [
            "0.1076923076923077\n",
            "0.13076923076923078\n"
          ]
        }
      ],
      "source": [
        "from sklearn.svm import SVC\n",
        "model = SVC().fit(X_train, y_train)\n",
        "print(model.score(X_test, y_test))\n",
        "print(model.score(X_train, y_train))\n",
        "predictions = model.predict(X_test)"
      ]
    },
    {
      "cell_type": "code",
      "execution_count": null,
      "metadata": {
        "id": "Qay5HPBTPc0t"
      },
      "outputs": [],
      "source": []
    },
    {
      "cell_type": "code",
      "execution_count": null,
      "metadata": {
        "id": "V7PcJGn6Pc0t",
        "outputId": "2d1fb36a-cd84-40a3-80ef-dac06dec487f"
      },
      "outputs": [
        {
          "ename": "NameError",
          "evalue": "name 'LinearRegression' is not defined",
          "output_type": "error",
          "traceback": [
            "\u001b[0;31m---------------------------------------------------------------------------\u001b[0m",
            "\u001b[0;31mNameError\u001b[0m                                 Traceback (most recent call last)",
            "\u001b[0;32m<ipython-input-1-5cca55085c16>\u001b[0m in \u001b[0;36m<module>\u001b[0;34m\u001b[0m\n\u001b[0;32m----> 1\u001b[0;31m \u001b[0mlin_reg\u001b[0m \u001b[0;34m=\u001b[0m \u001b[0mLinearRegression\u001b[0m\u001b[0;34m(\u001b[0m\u001b[0;34m)\u001b[0m\u001b[0;34m.\u001b[0m\u001b[0mfit\u001b[0m\u001b[0;34m(\u001b[0m\u001b[0mX_train\u001b[0m\u001b[0;34m,\u001b[0m \u001b[0my_train\u001b[0m\u001b[0;34m)\u001b[0m\u001b[0;34m\u001b[0m\u001b[0;34m\u001b[0m\u001b[0m\n\u001b[0m\u001b[1;32m      2\u001b[0m \u001b[0mtree\u001b[0m \u001b[0;34m=\u001b[0m \u001b[0mRandomForestRegressor\u001b[0m\u001b[0;34m(\u001b[0m\u001b[0;34m)\u001b[0m\u001b[0;34m.\u001b[0m\u001b[0mfit\u001b[0m\u001b[0;34m(\u001b[0m\u001b[0mX_train\u001b[0m\u001b[0;34m,\u001b[0m \u001b[0my_train\u001b[0m\u001b[0;34m)\u001b[0m\u001b[0;34m\u001b[0m\u001b[0;34m\u001b[0m\u001b[0m\n\u001b[1;32m      3\u001b[0m \u001b[0mknn\u001b[0m \u001b[0;34m=\u001b[0m \u001b[0mKNeighborsRegressor\u001b[0m\u001b[0;34m(\u001b[0m\u001b[0;34m)\u001b[0m\u001b[0;34m.\u001b[0m\u001b[0mfit\u001b[0m\u001b[0;34m(\u001b[0m\u001b[0mX_train\u001b[0m\u001b[0;34m,\u001b[0m \u001b[0my_train\u001b[0m\u001b[0;34m)\u001b[0m\u001b[0;34m\u001b[0m\u001b[0;34m\u001b[0m\u001b[0m\n\u001b[1;32m      4\u001b[0m \u001b[0mridge\u001b[0m \u001b[0;34m=\u001b[0m \u001b[0mRidge\u001b[0m\u001b[0;34m(\u001b[0m\u001b[0;34m)\u001b[0m\u001b[0;34m.\u001b[0m\u001b[0mfit\u001b[0m\u001b[0;34m(\u001b[0m\u001b[0mX_train\u001b[0m\u001b[0;34m,\u001b[0m \u001b[0my_train\u001b[0m\u001b[0;34m)\u001b[0m\u001b[0;34m\u001b[0m\u001b[0;34m\u001b[0m\u001b[0m\n\u001b[1;32m      5\u001b[0m \u001b[0msvc\u001b[0m \u001b[0;34m=\u001b[0m \u001b[0mSVC\u001b[0m\u001b[0;34m(\u001b[0m\u001b[0;34m)\u001b[0m\u001b[0;34m.\u001b[0m\u001b[0mfit\u001b[0m\u001b[0;34m(\u001b[0m\u001b[0mX_train\u001b[0m\u001b[0;34m,\u001b[0m \u001b[0my_train\u001b[0m\u001b[0;34m)\u001b[0m\u001b[0;34m\u001b[0m\u001b[0;34m\u001b[0m\u001b[0m\n",
            "\u001b[0;31mNameError\u001b[0m: name 'LinearRegression' is not defined"
          ]
        }
      ],
      "source": [
        "lin_reg = LinearRegression().fit(X_train, y_train)\n",
        "tree = RandomForestRegressor().fit(X_train, y_train)\n",
        "knn = KNeighborsRegressor().fit(X_train, y_train)\n",
        "ridge = Ridge().fit(X_train, y_train)\n",
        "svc = SVC().fit(X_train, y_train)\n",
        "lasso = Lasso().fit(X_train, y_train)\n",
        "lascv = LassoCV().fit(X_train, y_train)\n",
        "ridcv = RidgeCV().fit(X_train, y_train)\n",
        "\n",
        "x = []\n",
        "for model in [lin_reg, tree, knn, ridge, svc, lasso, lascv, ridcv]:\n",
        "    x.append({\n",
        "        'model': model.__class__.__name__,\n",
        "        'r2_test': r2_score(y_test, model.predict(X_test))\n",
        "    })\n",
        "pd.DataFrame(x)"
      ]
    },
    {
      "cell_type": "code",
      "execution_count": null,
      "metadata": {
        "id": "rrHLVWfvPc0t"
      },
      "outputs": [],
      "source": [
        "def find_best_model(model_class, X_train, X_test, y_train, y_test, params_grid, cv, name=None):\n",
        "    model_grid = GridSearchCV(model_class, params_grid, cv=cv, n_jobs=-1, verbose=True)\n",
        "    model_grid.fit(X_train, y_train)\n",
        "    best_params = model_grid.best_params_\n",
        "    r2 = r2_score(y_test, model_grid.predict(X_test))\n",
        "    return (model_grid.best_estimator_,\n",
        "            pd.DataFrame([{\"model\": name or model_grid.best_estimator_.__class__.__name__, 'r2_train': model_grid.best_score_,\n",
        "                          'r2_test':r2, **best_params}]))\n",
        "\n",
        ""
      ]
    },
    {
      "cell_type": "code",
      "execution_count": null,
      "metadata": {
        "id": "xNCS3MJdPc0t"
      },
      "outputs": [],
      "source": [
        "def test_all_models(X_train, X_test, y_train, y_test):\n",
        "    tree_params = {'max_depth': range(1,11),\n",
        "               'max_features': range(1,X_train.shape[1])}\n",
        "    best_tree, stats_tree = find_best_model(RandomForestRegressor(),\n",
        "                                                        X_train, X_test, y_train, y_test,\n",
        "                                                        tree_params, cv=5)\n",
        "    knn_params = {'knn__n_neighbors': range(1, 10)}\n",
        "    knn_pipe = Pipeline([('scaler', StandardScaler()), ('knn', KNeighborsRegressor(n_jobs=-1))])\n",
        "\n",
        "    best_knn, stats_knn = find_best_model(knn_pipe, X_train, X_test, y_train, y_test,\n",
        "                                                      knn_params, cv=5, name='KNN')\n",
        "\n",
        "    ridge_params = {'alpha': [i/10 for i in range(1, 10)],\n",
        "               'normalize': [True, False]}\n",
        "    best_rigde, stats_rigde = find_best_model(Ridge(random_state=42),\n",
        "                                                        X_train, X_test, y_train, y_test,\n",
        "                                                        ridge_params, cv=5)\n",
        "    #svc_params = {'kernel': ['linear', 'poly', 'rbf'], 'C': [1, 5, 10, 50], 'gamma': [0.0001, 0.0005, 0.001, 0.005]}\n",
        "    #svc_params = {'kernel': ['linear'], 'C': [1, 5], 'gamma': [0.001, 0.005]}\n",
        "    #best_svc, stats_svc = find_best_model(svm.SVC(), X_train, X_test, y_train, y_test, svc_params, cv = 5)\n",
        "\n",
        "    comp = pd.concat([stats_tree, stats_knn, stats_rigde], axis=0, ignore_index=True)\n",
        "    return comp[['model', 'r2_train', 'r2_test']]\n",
        ""
      ]
    },
    {
      "cell_type": "code",
      "execution_count": null,
      "metadata": {
        "id": "6oCloyTGPc0t",
        "outputId": "a5861f01-d668-4da7-9544-47bdb49066c2"
      },
      "outputs": [
        {
          "name": "stdout",
          "output_type": "stream",
          "text": [
            "Fitting 5 folds for each of 70 candidates, totalling 350 fits\n"
          ]
        },
        {
          "name": "stderr",
          "output_type": "stream",
          "text": [
            "[Parallel(n_jobs=-1)]: Using backend LokyBackend with 4 concurrent workers.\n",
            "[Parallel(n_jobs=-1)]: Done  42 tasks      | elapsed:    4.9s\n",
            "[Parallel(n_jobs=-1)]: Done 192 tasks      | elapsed:   17.6s\n",
            "[Parallel(n_jobs=-1)]: Done 350 out of 350 | elapsed:   32.6s finished\n"
          ]
        },
        {
          "name": "stdout",
          "output_type": "stream",
          "text": [
            "Fitting 5 folds for each of 9 candidates, totalling 45 fits\n"
          ]
        },
        {
          "name": "stderr",
          "output_type": "stream",
          "text": [
            "[Parallel(n_jobs=-1)]: Using backend LokyBackend with 4 concurrent workers.\n",
            "[Parallel(n_jobs=-1)]: Done  38 out of  45 | elapsed:    1.4s remaining:    0.3s\n",
            "[Parallel(n_jobs=-1)]: Done  45 out of  45 | elapsed:    1.6s finished\n",
            "[Parallel(n_jobs=-1)]: Using backend LokyBackend with 4 concurrent workers.\n"
          ]
        },
        {
          "name": "stdout",
          "output_type": "stream",
          "text": [
            "Fitting 5 folds for each of 18 candidates, totalling 90 fits\n"
          ]
        },
        {
          "name": "stderr",
          "output_type": "stream",
          "text": [
            "[Parallel(n_jobs=-1)]: Done  74 tasks      | elapsed:    0.6s\n",
            "[Parallel(n_jobs=-1)]: Done  90 out of  90 | elapsed:    0.7s finished\n"
          ]
        },
        {
          "data": {
            "text/html": [
              "<div>\n",
              "<style scoped>\n",
              "    .dataframe tbody tr th:only-of-type {\n",
              "        vertical-align: middle;\n",
              "    }\n",
              "\n",
              "    .dataframe tbody tr th {\n",
              "        vertical-align: top;\n",
              "    }\n",
              "\n",
              "    .dataframe thead th {\n",
              "        text-align: right;\n",
              "    }\n",
              "</style>\n",
              "<table border=\"1\" class=\"dataframe\">\n",
              "  <thead>\n",
              "    <tr style=\"text-align: right;\">\n",
              "      <th></th>\n",
              "      <th>model</th>\n",
              "      <th>r2_train</th>\n",
              "      <th>r2_test</th>\n",
              "    </tr>\n",
              "  </thead>\n",
              "  <tbody>\n",
              "    <tr>\n",
              "      <th>0</th>\n",
              "      <td>RandomForestRegressor</td>\n",
              "      <td>0.408719</td>\n",
              "      <td>0.545021</td>\n",
              "    </tr>\n",
              "    <tr>\n",
              "      <th>1</th>\n",
              "      <td>KNN</td>\n",
              "      <td>0.297443</td>\n",
              "      <td>0.406048</td>\n",
              "    </tr>\n",
              "    <tr>\n",
              "      <th>2</th>\n",
              "      <td>Ridge</td>\n",
              "      <td>0.337925</td>\n",
              "      <td>0.530637</td>\n",
              "    </tr>\n",
              "  </tbody>\n",
              "</table>\n",
              "</div>"
            ],
            "text/plain": [
              "                   model  r2_train   r2_test\n",
              "0  RandomForestRegressor  0.408719  0.545021\n",
              "1                    KNN  0.297443  0.406048\n",
              "2                  Ridge  0.337925  0.530637"
            ]
          },
          "execution_count": 778,
          "metadata": {},
          "output_type": "execute_result"
        }
      ],
      "source": [
        "test_all_models(X_train, X_test, y_train, y_test)"
      ]
    },
    {
      "cell_type": "code",
      "execution_count": null,
      "metadata": {
        "id": "4bZnLFQsPc0t",
        "outputId": "499e3d16-c811-4e60-e034-05324a9f3f00"
      },
      "outputs": [
        {
          "data": {
            "text/plain": [
              "(0.0, 700.0)"
            ]
          },
          "execution_count": 687,
          "metadata": {},
          "output_type": "execute_result"
        },
        {
          "data": {
            "image/png": "[encoded data removed]",
            "text/plain": [
              "<Figure size 432x288 with 1 Axes>"
            ]
          },
          "metadata": {
            "needs_background": "light"
          },
          "output_type": "display_data"
        }
      ],
      "source": [
        "plt.scatter(df['Цена книги'], lin_reg.predict(X_num))\n",
        "plt.plot(list(range(700)), 'r')\n",
        "plt.ylim([0, 700])"
      ]
    },
    {
      "cell_type": "code",
      "execution_count": null,
      "metadata": {
        "id": "Wb0jZ_ijPc0u"
      },
      "outputs": [],
      "source": [
        "def call(model):\n",
        "    try:\n",
        "        params = {}\n",
        "        for param in df.columns:\n",
        "            if param == 'Цена книги':\n",
        "                continue\n",
        "            params[param] = input(f'Введите значение {param}: ')\n",
        "        new_data = pd.DataFrame([params])\n",
        "        new_data = new_data.astype({\n",
        "            'Название книги': int,\n",
        "            'Имя автора': 'category',\n",
        "            'Оценка': float,\n",
        "            'Кол-во оценок': int,\n",
        "            'Кол-во страниц': int,\n",
        "            'Жанр': 'category',\n",
        "            'Кол-во книг у автора': int,\n",
        "            'Тип': 'category',\n",
        "        })\n",
        "        new_data = encoder.transform(new_data)\n",
        "        return {'y': model.predict(new_data)[0]}\n",
        "    except:\n",
        "        print(\"Что-то пошло не так!\")\n",
        "        return {}"
      ]
    },
    {
      "cell_type": "code",
      "execution_count": null,
      "metadata": {
        "id": "foXo9B9rPc0u",
        "outputId": "0e4a0909-24f7-44c0-96e8-a648a566845d"
      },
      "outputs": [
        {
          "data": {
            "text/plain": [
              "['encoder.joblib']"
            ]
          },
          "execution_count": 779,
          "metadata": {},
          "output_type": "execute_result"
        }
      ],
      "source": [
        "from joblib import dump, load\n",
        "dump(model, 'model.joblib')\n",
        "dump(encoder, 'encoder.joblib')"
      ]
    },
    {
      "cell_type": "code",
      "execution_count": null,
      "metadata": {
        "id": "p9ygstF6Pc0u"
      },
      "outputs": [],
      "source": [
        "model = load('model.joblib')\n",
        "encoder = load('encoder.joblib')"
      ]
    },
    {
      "cell_type": "code",
      "execution_count": null,
      "metadata": {
        "id": "SHeNGvkVPc0u",
        "outputId": "1883c6fb-6bb7-4ad9-f42e-30ce27ce661a"
      },
      "outputs": [
        {
          "name": "stdout",
          "output_type": "stream",
          "text": [
            "Введите значение Название книги: 30\n",
            "Введите значение Имя автора: Фредрик Бакман\n",
            "Введите значение Оценка: 4.8\n",
            "Введите значение Кол-во оценок: 600\n",
            "Введите значение Кол-во страниц: 380\n",
            "Введите значение Жанр: современная зарубежная литература\n",
            "Введите значение Кол-во книг у автора: 22\n",
            "Введите значение Тип: Текст\n"
          ]
        },
        {
          "data": {
            "text/plain": [
              "{'y': 299}"
            ]
          },
          "execution_count": 782,
          "metadata": {},
          "output_type": "execute_result"
        }
      ],
      "source": [
        "call(model)"
      ]
    },
    {
      "cell_type": "code",
      "execution_count": null,
      "metadata": {
        "id": "-NoBPvRyPc0u"
      },
      "outputs": [],
      "source": []
    }
  ],
  "metadata": {
    "kernelspec": {
      "display_name": "Python 3",
      "language": "python",
      "name": "python3"
    },
    "language_info": {
      "codemirror_mode": {
        "name": "ipython",
        "version": 3
      },
      "file_extension": ".py",
      "mimetype": "text/x-python",
      "name": "python",
      "nbconvert_exporter": "python",
      "pygments_lexer": "ipython3",
      "version": "3.7.7"
    },
    "colab": {
      "provenance": []
    }
  },
  "nbformat": 4,
  "nbformat_minor": 0
}